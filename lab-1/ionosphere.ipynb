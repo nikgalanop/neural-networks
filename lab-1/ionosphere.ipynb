{
  "cells": [
    {
      "cell_type": "markdown",
      "metadata": {
        "id": "H2-1CS-2XDlY"
      },
      "source": [
        "# Νευρωνικά Δίκτυα και Ευφυή Υπολογιστικά Συστήματα, ΣΗΜΜΥ ΕΜΠ, 2022-2023\n",
        "Ομάδα 42\n",
        "- Βαγγελάτος Οδυσσεύς (03118177)\n",
        "- Γαλανόπουλος Νικόλαος (03118024)\n",
        "- Νικολόπουλος Χρήστος (03118188)\n"
      ]
    },
    {
      "cell_type": "code",
      "execution_count": 14,
      "metadata": {
        "id": "P41tAFJoyOQC",
        "colab": {
          "base_uri": "https://localhost:8080/"
        },
        "outputId": "20a45e07-f34d-44a1-ec78-5a4c198b3b9a"
      },
      "outputs": [
        {
          "output_type": "stream",
          "name": "stdout",
          "text": [
            "Looking in indexes: https://pypi.org/simple, https://us-python.pkg.dev/colab-wheels/public/simple/\n",
            "Requirement already satisfied: pip in /usr/local/lib/python3.8/dist-packages (21.1.3)\n",
            "Looking in indexes: https://pypi.org/simple, https://us-python.pkg.dev/colab-wheels/public/simple/\n",
            "Requirement already satisfied: scikit-learn in /usr/local/lib/python3.8/dist-packages (1.0.2)\n",
            "Requirement already satisfied: joblib>=0.11 in /usr/local/lib/python3.8/dist-packages (from scikit-learn) (1.2.0)\n",
            "Requirement already satisfied: scipy>=1.1.0 in /usr/local/lib/python3.8/dist-packages (from scikit-learn) (1.7.3)\n",
            "Requirement already satisfied: numpy>=1.14.6 in /usr/local/lib/python3.8/dist-packages (from scikit-learn) (1.21.6)\n",
            "Requirement already satisfied: threadpoolctl>=2.0.0 in /usr/local/lib/python3.8/dist-packages (from scikit-learn) (3.1.0)\n",
            "Looking in indexes: https://pypi.org/simple, https://us-python.pkg.dev/colab-wheels/public/simple/\n",
            "Requirement already satisfied: imbalanced-learn in /usr/local/lib/python3.8/dist-packages (0.8.1)\n",
            "Requirement already satisfied: scikit-learn>=0.24 in /usr/local/lib/python3.8/dist-packages (from imbalanced-learn) (1.0.2)\n",
            "Requirement already satisfied: numpy>=1.13.3 in /usr/local/lib/python3.8/dist-packages (from imbalanced-learn) (1.21.6)\n",
            "Requirement already satisfied: scipy>=0.19.1 in /usr/local/lib/python3.8/dist-packages (from imbalanced-learn) (1.7.3)\n",
            "Requirement already satisfied: joblib>=0.11 in /usr/local/lib/python3.8/dist-packages (from imbalanced-learn) (1.2.0)\n",
            "Requirement already satisfied: threadpoolctl>=2.0.0 in /usr/local/lib/python3.8/dist-packages (from scikit-learn>=0.24->imbalanced-learn) (3.1.0)\n",
            "Looking in indexes: https://pypi.org/simple, https://us-python.pkg.dev/colab-wheels/public/simple/\n",
            "Requirement already satisfied: numpy in /usr/local/lib/python3.8/dist-packages (1.21.6)\n",
            "Looking in indexes: https://pypi.org/simple, https://us-python.pkg.dev/colab-wheels/public/simple/\n",
            "Requirement already satisfied: matplotlib in /usr/local/lib/python3.8/dist-packages (3.2.2)\n",
            "Requirement already satisfied: pyparsing!=2.0.4,!=2.1.2,!=2.1.6,>=2.0.1 in /usr/local/lib/python3.8/dist-packages (from matplotlib) (3.0.9)\n",
            "Requirement already satisfied: kiwisolver>=1.0.1 in /usr/local/lib/python3.8/dist-packages (from matplotlib) (1.4.4)\n",
            "Requirement already satisfied: cycler>=0.10 in /usr/local/lib/python3.8/dist-packages (from matplotlib) (0.11.0)\n",
            "Requirement already satisfied: python-dateutil>=2.1 in /usr/local/lib/python3.8/dist-packages (from matplotlib) (2.8.2)\n",
            "Requirement already satisfied: numpy>=1.11 in /usr/local/lib/python3.8/dist-packages (from matplotlib) (1.21.6)\n",
            "Requirement already satisfied: six>=1.5 in /usr/local/lib/python3.8/dist-packages (from python-dateutil>=2.1->matplotlib) (1.15.0)\n",
            "Looking in indexes: https://pypi.org/simple, https://us-python.pkg.dev/colab-wheels/public/simple/\n",
            "Requirement already satisfied: pandas in /usr/local/lib/python3.8/dist-packages (1.3.5)\n",
            "Requirement already satisfied: pytz>=2017.3 in /usr/local/lib/python3.8/dist-packages (from pandas) (2022.6)\n",
            "Requirement already satisfied: python-dateutil>=2.7.3 in /usr/local/lib/python3.8/dist-packages (from pandas) (2.8.2)\n",
            "Requirement already satisfied: numpy>=1.17.3 in /usr/local/lib/python3.8/dist-packages (from pandas) (1.21.6)\n",
            "Requirement already satisfied: six>=1.5 in /usr/local/lib/python3.8/dist-packages (from python-dateutil>=2.7.3->pandas) (1.15.0)\n"
          ]
        }
      ],
      "source": [
        "!pip install pip\n",
        "!pip install scikit-learn\n",
        "!pip install imbalanced-learn\n",
        "!pip install numpy\n",
        "!pip install matplotlib\n",
        "!pip install pandas"
      ]
    },
    {
      "cell_type": "code",
      "execution_count": 15,
      "metadata": {
        "id": "aR6srnnfV8OI"
      },
      "outputs": [],
      "source": [
        "import matplotlib.pyplot as plt\n",
        "import pandas as pd\n",
        "import numpy as np\n",
        "\n",
        "from sklearn.model_selection import train_test_split, GridSearchCV\n",
        "from tabulate import tabulate\n",
        "\n",
        "from sklearn.metrics import make_scorer, accuracy_score, f1_score, ConfusionMatrixDisplay\n",
        "from sklearn.linear_model import LogisticRegression\n",
        "from sklearn.neighbors import KNeighborsClassifier\n",
        "from sklearn.naive_bayes import GaussianNB\n",
        "from sklearn.dummy import DummyClassifier\n",
        "from imblearn.pipeline import Pipeline\n",
        "from sklearn.feature_selection import VarianceThreshold\n",
        "from sklearn.preprocessing import StandardScaler\n",
        "from imblearn.over_sampling import RandomOverSampler\n",
        "from sklearn.decomposition import PCA\n",
        "\n",
        "import time"
      ]
    },
    {
      "cell_type": "markdown",
      "metadata": {
        "id": "ZOl-XxNwYGxk"
      },
      "source": [
        "# [🔗](http://archive.ics.uci.edu/ml/datasets/Ionosphere) Μέρος 1. UCI Dataset - Ionosphere"
      ]
    },
    {
      "cell_type": "markdown",
      "metadata": {
        "id": "0VPoGRtUam0h"
      },
      "source": [
        "## Εισαγωγή και επισκόπηση"
      ]
    },
    {
      "cell_type": "markdown",
      "metadata": {
        "id": "AVk0K9HkFd69"
      },
      "source": [
        "Το dataset προέρχεται από πείραμα στο Goose Bay του Labrador, όπου με ένα σύνολο κεραιών εκπέμπεται ακτινοβολία προς την ιονόσφαιρα και αναλύεται η ανακλώμενη ακτινοβολία που γυρίζει πίσω. Στόχος είναι η ταξινόμησή της σε χρήσιμη (g), εφόσον περιέχει πληροφορία για τη δομή της ιονόσφαιρας (όταν έγινε ανάκλαση με ελέυθερο ηλεκτρόνιό της), και άχρηστη (b), στην περίπτωση που πέρασε το μεγαλύτερο μέρος μέσα από το ατμοσφαιρικό στρώμα. Κάθε γραμμή εισόδου περιέχει 34 αριθμούς: το πραγματικό και φανταστικό μέρος της αυτοσυσχέτισης καθενός από τους 17 παλμούς που ελήφθησαν."
      ]
    },
    {
      "cell_type": "code",
      "execution_count": 16,
      "metadata": {
        "id": "3lV518QOxbK2"
      },
      "outputs": [],
      "source": [
        "URL_DATASET = \"http://archive.ics.uci.edu/ml/machine-learning-databases/ionosphere/ionosphere.data\"\n",
        "df = pd.read_csv(URL_DATASET, header = None)\n",
        "X, y = df.iloc[:, 0:34], df[34]"
      ]
    },
    {
      "cell_type": "markdown",
      "metadata": {
        "id": "FhnjyHYCNwHo"
      },
      "source": [
        "Δε χρειάστηκε μετασχηματισμός του αρχείου CSV εισόδου."
      ]
    },
    {
      "cell_type": "code",
      "execution_count": 17,
      "metadata": {
        "id": "9zAOvCuaXMG2",
        "colab": {
          "base_uri": "https://localhost:8080/"
        },
        "outputId": "18b789cd-a1c3-491d-aa9c-3c83a4c20c5a"
      },
      "outputs": [
        {
          "output_type": "stream",
          "name": "stdout",
          "text": [
            "Πλήθος δειγμάτων: 351\n",
            "Πλήθος χαρακτηριστικών: 34\n",
            "Είδος χαρακτηριστικών: [dtype('int64') dtype('float64')]\n"
          ]
        }
      ],
      "source": [
        "print(f\"Πλήθος δειγμάτων: {X.shape[0]}\")\n",
        "print(f\"Πλήθος χαρακτηριστικών: {X.shape[1]}\")\n",
        "print(f\"Είδος χαρακτηριστικών: {X.dtypes.unique()}\")"
      ]
    },
    {
      "cell_type": "markdown",
      "source": [
        "\n",
        "Οι αρχικές μετρήσεις από τις οποίες προκύπτει το dataset είναι μιγαδικοί αριθμοί, οι οποίοι δεν έχουν διάταξη. Ωστόσο, οι τιμές κάθε κολόνας είναι μόνο το φανταστικό ή μόνο το πραγματικό μέρος, επομένως ορίζεται διάταξη μεταξύ των τιμών αυτών."
      ],
      "metadata": {
        "id": "BMjk6Z2mbgEs"
      }
    },
    {
      "cell_type": "code",
      "source": [
        "X = X.astype(\"float64\") \n",
        "## Αφού όλοι οι αριθμοί αποτελούν το πραγματικό ή φανταστικό μέρος αυτοσυσχέτισης\n",
        "## επιλέγουμε να έχουμε ομοιόμορφους τύπους δεδομένων, δηλαδή float64\n",
        "print(f\"Είδος χαρακτηριστικών: {X.dtypes.unique()}\")"
      ],
      "metadata": {
        "colab": {
          "base_uri": "https://localhost:8080/"
        },
        "id": "9LeUW5w7aWB0",
        "outputId": "a230274f-f520-42ca-a65c-817cdd481310"
      },
      "execution_count": 18,
      "outputs": [
        {
          "output_type": "stream",
          "name": "stdout",
          "text": [
            "Είδος χαρακτηριστικών: [dtype('float64')]\n"
          ]
        }
      ]
    },
    {
      "cell_type": "markdown",
      "metadata": {
        "id": "h2ibmjwGOY14"
      },
      "source": [
        "Δεν υπάρχουν επικεφαλίδες, ούτε αρίθμηση γραμμών."
      ]
    },
    {
      "cell_type": "markdown",
      "metadata": {
        "id": "_ijfQXBtOn5S"
      },
      "source": [
        "Η ετικέτα των κλάσεων ισόυται με `g` (good, χρήσιμη ακτινοβολία) ή `b` (bad, άχρηστη πληροφορία) και βρίσκεται στην τελευταία στήλη."
      ]
    },
    {
      "cell_type": "markdown",
      "metadata": {
        "id": "Jbh-K8lzPFwe"
      },
      "source": [
        "Δεν υπάρχουν απουσιάζουσες τιμές:\n"
      ]
    },
    {
      "cell_type": "code",
      "execution_count": 19,
      "metadata": {
        "id": "T3KAhPJqbcd7",
        "colab": {
          "base_uri": "https://localhost:8080/"
        },
        "outputId": "14d524d0-7b1a-4081-9c66-0017831cf827"
      },
      "outputs": [
        {
          "output_type": "stream",
          "name": "stdout",
          "text": [
            "Απουσιάζουσες τιμές: 0\n"
          ]
        }
      ],
      "source": [
        "print(f\"Απουσιάζουσες τιμές: {df.isnull().values.sum()}\")"
      ]
    },
    {
      "cell_type": "code",
      "execution_count": 20,
      "metadata": {
        "id": "KEKqzrEWb4hJ",
        "colab": {
          "base_uri": "https://localhost:8080/"
        },
        "outputId": "bedabc1d-b529-4ddc-cb0f-7068c47250b7"
      },
      "outputs": [
        {
          "output_type": "stream",
          "name": "stdout",
          "text": [
            "Πλήθος Κλάσεων: 2\n",
            "Συχνότητα Δειγμάτων Κλάσεων:\n",
            "g    64.10%\n",
            "b    35.90%\n",
            "Name: 34, dtype: object\n"
          ]
        }
      ],
      "source": [
        "print(f\"Πλήθος Κλάσεων: 2\")\n",
        "freqs = (100 * y.value_counts() / y.size).map(\"{:.2f}%\".format)\n",
        "print(f\"Συχνότητα Δειγμάτων Κλάσεων:\\n{freqs}\")"
      ]
    },
    {
      "cell_type": "markdown",
      "metadata": {
        "id": "278o0y7LcWFp"
      },
      "source": [
        "Εφόσον η κλάση `g` εμφανίζεται σε παραπάνω από 60% των γραμμών εισόδου, το dataset δεν είναι ισορροπημένο."
      ]
    },
    {
      "cell_type": "markdown",
      "metadata": {
        "id": "OCOAgTy-KueK"
      },
      "source": [
        "## Προετοιμασία"
      ]
    },
    {
      "cell_type": "code",
      "execution_count": 21,
      "metadata": {
        "id": "HM5F-2pMRQL0"
      },
      "outputs": [],
      "source": [
        "X_train, X_test, y_train, y_test = train_test_split(X, y, test_size = .3, random_state = 42) # Fixed random_state for reproducibility."
      ]
    },
    {
      "cell_type": "code",
      "execution_count": 22,
      "metadata": {
        "id": "j0YigeusRtOj",
        "colab": {
          "base_uri": "https://localhost:8080/"
        },
        "outputId": "d7b107ef-e7bd-45de-de85-1152bc3c2831"
      },
      "outputs": [
        {
          "output_type": "stream",
          "name": "stdout",
          "text": [
            "Split percentage:  30.199%\n"
          ]
        }
      ],
      "source": [
        "print(f\"Split percentage: {len(y_test) / len(y) * 100 : .3f}%\")"
      ]
    },
    {
      "cell_type": "markdown",
      "metadata": {
        "id": "677fmakGPLdU"
      },
      "source": [
        "## Ταξινόμηση"
      ]
    },
    {
      "cell_type": "code",
      "execution_count": null,
      "metadata": {
        "id": "tA-tEr_KPTIH"
      },
      "outputs": [],
      "source": [
        "clfs = [DummyClassifier(), GaussianNB(), \n",
        "        KNeighborsClassifier(), LogisticRegression()]"
      ]
    },
    {
      "cell_type": "code",
      "execution_count": null,
      "metadata": {
        "id": "6d1nfy_4PhIS",
        "colab": {
          "base_uri": "https://localhost:8080/"
        },
        "outputId": "ba239f8f-8c06-464a-c66f-c6fceed0efde"
      },
      "outputs": [
        {
          "output_type": "stream",
          "name": "stdout",
          "text": [
            "Classifier              Accuracy (%)    F1-score (%)\n",
            "--------------------  --------------  --------------\n",
            "DummyClassifier               63.208          77.457\n",
            "GaussianNB                    89.623          92.199\n",
            "KNeighborsClassifier          85.849          89.933\n",
            "LogisticRegression            87.736          91.034\n"
          ]
        }
      ],
      "source": [
        "accs, f1s = [], []  # accuracy(s), F1-score(s)\n",
        "\n",
        "for clf in clfs:\n",
        "  preds = clf.fit(X_train, y_train).predict(X_test) \n",
        "  accs.append(100 * accuracy_score(y_test, preds))\n",
        "  f1s.append(100 * f1_score(y_test, preds, pos_label = 'g'))\n",
        "\n",
        "print(tabulate({\"Classifier\": [str(c)[:-2] for c in clfs], \"Accuracy (%)\": accs, \"F1-score (%)\": f1s}, headers=\"keys\", floatfmt=\".3f\"))"
      ]
    },
    {
      "cell_type": "markdown",
      "metadata": {
        "id": "UT62iuXCUQM3"
      },
      "source": [
        "| **Metric**  | **Dummy** | **Gaussian NB** | **5-NN** | **Logistic  Regression** |\n",
        "|:-----------:|:---------:|:---------------:|:--------:|:------------:|\n",
        "| Accuracy (%)| 63.208    | 89.623          | 85.849   | 87.736       |\n",
        "| F1-Score (%)| 77.457    | 92.199          | 89.933   | 91.034       |"
      ]
    },
    {
      "cell_type": "code",
      "execution_count": null,
      "metadata": {
        "id": "Zu5bEKQPVmjh",
        "colab": {
          "base_uri": "https://localhost:8080/",
          "height": 265
        },
        "outputId": "a434b274-82e0-4662-a452-1b7d077671a2"
      },
      "outputs": [
        {
          "output_type": "display_data",
          "data": {
            "text/plain": [
              "<Figure size 432x288 with 2 Axes>"
            ],
            "image/png": "[encoded data removed]"
          },
          "metadata": {
            "needs_background": "light"
          }
        }
      ],
      "source": [
        "names = ['dummy', 'GNB', '5-NN', 'LR'] # By default sklearn uses k = 5 for NN\n",
        "fig, ax = plt.subplots(nrows = 2)\n",
        "ax[0].set_ylabel(\"Accuracy (%)\")\n",
        "ax[1].set_ylabel(\"F1-Score (%)\")\n",
        "ax[0].bar(names, accs)\n",
        "ax[1].bar(names, f1s)\n",
        "plt.show()"
      ]
    },
    {
      "cell_type": "markdown",
      "metadata": {
        "id": "eJLdMktaVBhc"
      },
      "source": [
        "Ο ταξινομητής με το καλύτερο accuracy ταυτίζεται με εκείνον με το καλύτερο F1-score και είναι ο GaussianNB. Παρατηρούμε ότι ο dummy classifier έχει τη χειρότερη επίδοση, σύμφωνα και με τις δύο μετρικές.\n",
        "\n"
      ]
    },
    {
      "cell_type": "markdown",
      "metadata": {
        "id": "24VskUcMW3u4"
      },
      "source": [
        "## Βελτιστοποίηση"
      ]
    },
    {
      "cell_type": "code",
      "execution_count": null,
      "metadata": {
        "id": "uBOrTN0LzpEu"
      },
      "outputs": [],
      "source": [
        "selector = VarianceThreshold()\n",
        "scaler = StandardScaler()\n",
        "ros = RandomOverSampler()\n",
        "pca = PCA()\n",
        "f1_scorer = make_scorer(f1_score, pos_label = 'g') # Δεν γίνεται να γράψουμε scoring = 'f1' απ'ευθείας στο GridSearchCV \n",
        "# διότι τότε υποθέτει pos_label = '1', ενώ τα labels μας είναι στο {'b','g'}"
      ]
    },
    {
      "cell_type": "markdown",
      "metadata": {
        "id": "RKauTN_XcUnC"
      },
      "source": [
        "#### Dummy Classifier Optimization"
      ]
    },
    {
      "cell_type": "code",
      "execution_count": null,
      "metadata": {
        "id": "ssYZlgckckSv"
      },
      "outputs": [],
      "source": [
        "clf = DummyClassifier()"
      ]
    },
    {
      "cell_type": "markdown",
      "source": [
        "Οι \"στρατηγικές\" του dummy classifier, χρησιμοποιούν μόνο τα labels και όχι τα χαρακτηριστικά των δειγμάτων. Συνεπώς, δεν πρόκειται να \"δούμε\" βελτίωση με εισαγωγή variance threshold, PCA ή scaler. Το μόνο στοιχείο του τυπικού pipeline που μπορεί να αλλάξει την απόδοση του dummy classifier είναι ο sampler και συγκεκριμένα για τις στρατηγικές που υπολογίζουν à priori πιθανότητες με βάση τα train δεδομένα."
      ],
      "metadata": {
        "id": "IL1ZjBsFDIdy"
      }
    },
    {
      "cell_type": "markdown",
      "source": [
        "#####Accuracy"
      ],
      "metadata": {
        "id": "ynnAVbwrBIA7"
      }
    },
    {
      "cell_type": "markdown",
      "source": [
        "######Χωρίς Sampler"
      ],
      "metadata": {
        "id": "5oCGwUVaDrSL"
      }
    },
    {
      "cell_type": "code",
      "source": [
        "pipe = Pipeline(steps=[('dmm', clf)], memory = 'tmp')"
      ],
      "metadata": {
        "id": "xpeAN5wND-eP"
      },
      "execution_count": null,
      "outputs": []
    },
    {
      "cell_type": "code",
      "source": [
        "strategies = ['most_frequent', 'prior', 'stratified', 'uniform']\n",
        "\n",
        "estimator = GridSearchCV(pipe, dict(dmm__strategy = strategies), \n",
        "                         cv = 10, scoring = 'accuracy', n_jobs = -1).fit(X_train, y_train)\n",
        "print(f\"Best Parameters: {estimator.best_params_}\")\n",
        "print(f\"Best Score: {100 * estimator.best_score_:.3f}%\")"
      ],
      "metadata": {
        "colab": {
          "base_uri": "https://localhost:8080/"
        },
        "id": "OSB2eeicDFIa",
        "outputId": "210db949-21cf-43f6-f7ae-88475f24108d"
      },
      "execution_count": null,
      "outputs": [
        {
          "output_type": "stream",
          "name": "stdout",
          "text": [
            "Best Parameters: {'dmm__strategy': 'most_frequent'}\n",
            "Best Score: 64.500%\n"
          ]
        }
      ]
    },
    {
      "cell_type": "code",
      "source": [
        "constants = ['b', 'g']\n",
        "\n",
        "estimator = GridSearchCV(pipe, dict(dmm__strategy = ['constant'], dmm__constant = constants), \n",
        "                         cv = 10, scoring = 'accuracy', n_jobs = -1).fit(X_train, y_train)\n",
        "print(f\"Best Parameters: {estimator.best_params_}\")\n",
        "print(f\"Best Score: {100 * estimator.best_score_:.3f}%\")"
      ],
      "metadata": {
        "colab": {
          "base_uri": "https://localhost:8080/"
        },
        "id": "m6ArXZOEEWry",
        "outputId": "ad83a139-da16-4c29-fdd9-fb95fea07bcc"
      },
      "execution_count": null,
      "outputs": [
        {
          "output_type": "stream",
          "name": "stdout",
          "text": [
            "Best Parameters: {'dmm__constant': 'g', 'dmm__strategy': 'constant'}\n",
            "Best Score: 64.500%\n"
          ]
        }
      ]
    },
    {
      "cell_type": "code",
      "source": [
        "# Our choice for 'maximizing accuracy'\n",
        "print(f\"Dummy: Best Parameters: {estimator.best_estimator_}\")\n",
        "print(f\"       Training time {1000 * (estimator.refit_time_):.5f} ms\")\n",
        "start = time.time()\n",
        "preds = estimator.predict(X_test)\n",
        "stop = time.time()\n",
        "print(f\"       Classification time {1000 * (stop - start):.5f} ms\")\n",
        "print(f\"       Accuracy {100 * accuracy_score(y_test, preds):.3f}%\")"
      ],
      "metadata": {
        "colab": {
          "base_uri": "https://localhost:8080/"
        },
        "id": "1-i1HrWANMRa",
        "outputId": "6f16c86b-cb7d-4715-dc57-8f816242051c"
      },
      "execution_count": null,
      "outputs": [
        {
          "output_type": "stream",
          "name": "stdout",
          "text": [
            "Dummy: Best Parameters: Pipeline(memory='tmp',\n",
            "         steps=[('dmm', DummyClassifier(constant='g', strategy='constant'))])\n",
            "       Training time 1.00160 ms\n",
            "       Classification time 1.07765 ms\n",
            "       Accuracy 63.208%\n"
          ]
        }
      ]
    },
    {
      "cell_type": "markdown",
      "source": [
        "######Με Sampler"
      ],
      "metadata": {
        "id": "7weZOqQsLv2v"
      }
    },
    {
      "cell_type": "code",
      "source": [
        "pipe = Pipeline(steps=[('sampler', ros), ('dmm', clf)], memory = 'tmp')"
      ],
      "metadata": {
        "id": "9sY3OSuILxLP"
      },
      "execution_count": null,
      "outputs": []
    },
    {
      "cell_type": "code",
      "source": [
        "strategies = ['most_frequent', 'prior', 'stratified']\n",
        "\n",
        "estimator = GridSearchCV(pipe, dict(dmm__strategy = strategies), \n",
        "                         cv = 10, scoring = 'accuracy', n_jobs = -1).fit(X_train, y_train)\n",
        "print(f\"Best Parameters: {estimator.best_params_}\")\n",
        "print(f\"Best Score: {100 * estimator.best_score_:.3f}%\")"
      ],
      "metadata": {
        "colab": {
          "base_uri": "https://localhost:8080/"
        },
        "id": "IlPXIFF8L6DW",
        "outputId": "de628586-331d-47ec-ea26-ed88ea7ecb70"
      },
      "execution_count": null,
      "outputs": [
        {
          "output_type": "stream",
          "name": "stdout",
          "text": [
            "Best Parameters: {'dmm__strategy': 'stratified'}\n",
            "Best Score: 49.067%\n"
          ]
        }
      ]
    },
    {
      "cell_type": "markdown",
      "source": [
        "#####F1-Score"
      ],
      "metadata": {
        "id": "p70Q-53PMjpW"
      }
    },
    {
      "cell_type": "markdown",
      "source": [
        "######Χωρίς Sampler"
      ],
      "metadata": {
        "id": "2F3WeRUuMq__"
      }
    },
    {
      "cell_type": "code",
      "source": [
        "pipe = Pipeline(steps=[('dmm', clf)], memory = 'tmp')"
      ],
      "metadata": {
        "id": "72BB4JFxMq__"
      },
      "execution_count": null,
      "outputs": []
    },
    {
      "cell_type": "code",
      "source": [
        "strategies = ['most_frequent', 'prior', 'stratified', 'uniform']\n",
        "\n",
        "estimator = GridSearchCV(pipe, dict(dmm__strategy = strategies), \n",
        "                         cv = 10, scoring = f1_scorer, n_jobs = -1).fit(X_train, y_train)\n",
        "print(f\"Best Parameters: {estimator.best_params_}\")\n",
        "print(f\"Best Score: {100 * estimator.best_score_:.3f}%\")"
      ],
      "metadata": {
        "colab": {
          "base_uri": "https://localhost:8080/"
        },
        "outputId": "94f82bf6-7395-45d5-faa4-629b5237b08b",
        "id": "kBFs3iI-MoWD"
      },
      "execution_count": null,
      "outputs": [
        {
          "output_type": "stream",
          "name": "stdout",
          "text": [
            "Best Parameters: {'dmm__strategy': 'most_frequent'}\n",
            "Best Score: 78.409%\n"
          ]
        }
      ]
    },
    {
      "cell_type": "code",
      "source": [
        "constants = ['b', 'g']\n",
        "\n",
        "estimator = GridSearchCV(pipe, dict(dmm__strategy = ['constant'], dmm__constant = constants), \n",
        "                         cv = 10, scoring = f1_scorer, n_jobs = -1).fit(X_train, y_train)\n",
        "print(f\"Best Parameters: {estimator.best_params_}\")\n",
        "print(f\"Best Score: {100 * estimator.best_score_:.3f}%\")"
      ],
      "metadata": {
        "colab": {
          "base_uri": "https://localhost:8080/"
        },
        "outputId": "a9a5e674-1a9e-4a81-942d-b2bb9f79126b",
        "id": "S6fUPBGfMoWE"
      },
      "execution_count": null,
      "outputs": [
        {
          "output_type": "stream",
          "name": "stdout",
          "text": [
            "Best Parameters: {'dmm__constant': 'g', 'dmm__strategy': 'constant'}\n",
            "Best Score: 78.409%\n"
          ]
        }
      ]
    },
    {
      "cell_type": "code",
      "source": [
        "# Our choice for 'maximizing f1-score'\n",
        "print(f\"Dummy: Best Parameters: {estimator.best_estimator_}\")\n",
        "print(f\"       Training time {1000 * (estimator.refit_time_):.5f} ms\")\n",
        "start = time.time()\n",
        "preds = estimator.predict(X_test)\n",
        "stop = time.time()\n",
        "print(f\"       Classification time {1000 * (stop - start):.5f} ms\")\n",
        "print(f\"       F1-Score {100 * f1_score(y_test, preds, pos_label = 'g'):.3f}%\")"
      ],
      "metadata": {
        "colab": {
          "base_uri": "https://localhost:8080/"
        },
        "id": "5xC9a9j1NR_R",
        "outputId": "9caf739f-4c83-4235-b625-07c692a6c4ae"
      },
      "execution_count": null,
      "outputs": [
        {
          "output_type": "stream",
          "name": "stdout",
          "text": [
            "Dummy: Best Parameters: Pipeline(memory='tmp',\n",
            "         steps=[('dmm', DummyClassifier(constant='g', strategy='constant'))])\n",
            "       Training time 1.47867 ms\n",
            "       Classification time 0.72265 ms\n",
            "       F1-Score 77.457%\n"
          ]
        }
      ]
    },
    {
      "cell_type": "markdown",
      "source": [
        "######Με Sampler"
      ],
      "metadata": {
        "id": "nKoBvKXtMzmD"
      }
    },
    {
      "cell_type": "code",
      "source": [
        "pipe = Pipeline(steps=[('sampler', ros), ('dmm', clf)], memory = 'tmp')"
      ],
      "metadata": {
        "id": "d65bHlYIMoWE"
      },
      "execution_count": null,
      "outputs": []
    },
    {
      "cell_type": "code",
      "source": [
        "strategies = ['most_frequent', 'prior', 'stratified']\n",
        "\n",
        "estimator = GridSearchCV(pipe, dict(dmm__strategy = strategies), \n",
        "                         cv = 10, scoring = f1_scorer, n_jobs = -1).fit(X_train, y_train)\n",
        "print(f\"Best Parameters: {estimator.best_params_}\")\n",
        "print(f\"Best Score: {100 * estimator.best_score_:.3f}%\")"
      ],
      "metadata": {
        "colab": {
          "base_uri": "https://localhost:8080/"
        },
        "outputId": "a7681012-fc5a-49b3-99ba-e55c683e306c",
        "id": "JMv3Tu8vMoWF"
      },
      "execution_count": null,
      "outputs": [
        {
          "output_type": "stream",
          "name": "stdout",
          "text": [
            "Best Parameters: {'dmm__strategy': 'stratified'}\n",
            "Best Score: 55.353%\n"
          ]
        }
      ]
    },
    {
      "cell_type": "markdown",
      "source": [
        "##### Συμπεράσματα"
      ],
      "metadata": {
        "id": "y_aODt3QlW5c"
      }
    },
    {
      "cell_type": "markdown",
      "source": [
        "Συνολικά για τον Dummy επιλέγουμε:\n",
        "\n",
        "- Για accuracy: strategy `constant` με constant `g`.\n",
        "- Για F1-score: << << <<.\n"
      ],
      "metadata": {
        "id": "MrAKf2QiusaA"
      }
    },
    {
      "cell_type": "markdown",
      "metadata": {
        "id": "rmQ5lxWny71M"
      },
      "source": [
        "#### GNB Optimization"
      ]
    },
    {
      "cell_type": "markdown",
      "metadata": {
        "id": "F6hwpYDQazjD"
      },
      "source": [
        "Στην υλοποίηση του `GaussianNB` της `scikit-learn`, υπάρχουν δύο arguments, το `priors` και το `var_smoothing`. Με το πρώτο καθορίζουμε αν ο ταξινομητής θα εκτιμήσει τις à priori πιθανότητες των κλάσεων, με βάση τα `train data` ή αν θα του δώσουμε κάποιες συγκεκριμένες τιμές εμείς. Το δεύτερο είναι το `var_smoothing`, μία παράμετρος για διασφάλιση αριθμητικής ευστάθειας (πχ. όταν η διασπορά κάποιον χαρακτηριστικών δεν είναι μηδενική αλλά τείνει στο πεπερασμένο precision του Η/Υ να \"μοιάζει\" μηδενική, μπορεί να προκαλέσει πρόβλημα στους υπολογισμούς του ταξινομητή) Στη πράξη, δεν θεωρούμε καμία από τις δύο υπερπαραμέτρους του ταξινομητή. (Ιδιαίτερα τη δεύτερη που κύριο λόγο έχει να εξασφαλίζει αριθμητική ευστάθεια) Οι à priori πιθανότητες, είναι ποσότητες που περιγράφουν εν γένει τη \"φύση\" των κλάσεων που προσπαθούμε να ταξινομήσουμε και δεν είναι μία τιμή που \"πειράζουμε\" για να μας δώσει τα αποτελέσματα που επιθυμούμε."
      ]
    },
    {
      "cell_type": "code",
      "execution_count": null,
      "metadata": {
        "id": "UTo8eHdqy7Mk"
      },
      "outputs": [],
      "source": [
        "clf = GaussianNB()"
      ]
    },
    {
      "cell_type": "markdown",
      "metadata": {
        "id": "RTJVRr29Lmd-"
      },
      "source": [
        "#####Accuracy"
      ]
    },
    {
      "cell_type": "markdown",
      "metadata": {
        "id": "iAOO2arbSxAc"
      },
      "source": [
        "######Standard Pipeline"
      ]
    },
    {
      "cell_type": "code",
      "execution_count": null,
      "metadata": {
        "id": "XRgCP6yQSurT"
      },
      "outputs": [],
      "source": [
        "pipe = Pipeline(steps=[('selector', selector), ('scaler', scaler), ('sampler', ros), ('pca', pca), ('gnb', clf)], memory = 'tmp')"
      ]
    },
    {
      "cell_type": "code",
      "execution_count": null,
      "metadata": {
        "id": "8LmHC_a10Cfr",
        "colab": {
          "base_uri": "https://localhost:8080/"
        },
        "outputId": "42910dfd-31b8-4c7c-97c5-6a7127c5c514"
      },
      "outputs": [
        {
          "output_type": "stream",
          "name": "stdout",
          "text": [
            "Best Parameters: {'pca__n_components': 8, 'selector__threshold': 0.26}\n",
            "Best Score: 86.983%\n"
          ]
        }
      ],
      "source": [
        "vthreshold = np.linspace(0, .3, 16, endpoint = True) \n",
        "n_components = [1, 2, 4, 6, 8]\n",
        "\n",
        "estimator = GridSearchCV(pipe, dict(selector__threshold = vthreshold, pca__n_components = n_components), \n",
        "                         cv = 10, scoring = 'accuracy', n_jobs = -1).fit(X_train, y_train)\n",
        "print(f\"Best Parameters: {estimator.best_params_}\")\n",
        "print(f\"Best Score: {100 * estimator.best_score_:.3f}%\")"
      ]
    },
    {
      "cell_type": "markdown",
      "source": [
        "Αν βάλουμε variance threshold > .25, δεν μένουν αρκετά features ώστε να κάνουμε PCA με >= 10 components, οπότε τα εξετάζουμε χωριστά."
      ],
      "metadata": {
        "id": "qCXUYbh3kImL"
      }
    },
    {
      "cell_type": "code",
      "execution_count": null,
      "metadata": {
        "id": "hbyBqtaOHGvc",
        "colab": {
          "base_uri": "https://localhost:8080/"
        },
        "outputId": "8609fddc-c736-445a-f4de-2169e1dbc924"
      },
      "outputs": [
        {
          "output_type": "stream",
          "name": "stdout",
          "text": [
            "Best Parameters: {'pca__n_components': 14, 'selector__threshold': 0.24000000000000002}\n",
            "Best Score: 87.433%\n"
          ]
        }
      ],
      "source": [
        "vthreshold = np.linspace(.1, .25, 31, endpoint = True) \n",
        "n_components = [10, 12, 14]\n",
        "\n",
        "estimator = GridSearchCV(pipe, dict(selector__threshold = vthreshold, pca__n_components = n_components), \n",
        "                         cv = 10, scoring = 'accuracy', n_jobs = -1).fit(X_train, y_train)\n",
        "print(f\"Best Parameters: {estimator.best_params_}\")\n",
        "print(f\"Best Score: {100 * estimator.best_score_:.3f}%\")"
      ]
    },
    {
      "cell_type": "code",
      "execution_count": null,
      "metadata": {
        "id": "pioNG5YJHtZB",
        "colab": {
          "base_uri": "https://localhost:8080/"
        },
        "outputId": "51bc6e1f-0817-49bf-9014-df5781a1addd"
      },
      "outputs": [
        {
          "output_type": "stream",
          "name": "stdout",
          "text": [
            "Best Parameters: {'pca__n_components': 13, 'selector__threshold': 0.2316666666666667}\n",
            "Best Score: 87.433%\n"
          ]
        }
      ],
      "source": [
        "vthreshold = np.linspace(.2, .25, 31, endpoint = True) \n",
        "n_components = [11, 12, 13, 14, 15]\n",
        "\n",
        "estimator = GridSearchCV(pipe, dict(selector__threshold = vthreshold, pca__n_components = n_components), \n",
        "                         cv = 10, scoring = 'accuracy', n_jobs = -1).fit(X_train, y_train)\n",
        "print(f\"Best Parameters: {estimator.best_params_}\")\n",
        "print(f\"Best Score: {100 * estimator.best_score_:.3f}%\")"
      ]
    },
    {
      "cell_type": "code",
      "execution_count": null,
      "metadata": {
        "id": "scv1oQ1iJxph",
        "colab": {
          "base_uri": "https://localhost:8080/"
        },
        "outputId": "4bf4e58c-01a4-494c-9f81-f5a756085acf"
      },
      "outputs": [
        {
          "output_type": "stream",
          "name": "stdout",
          "text": [
            "Best Parameters: {'pca__n_components': 9, 'selector__threshold': 0.2625}\n",
            "Best Score: 87.400%\n"
          ]
        }
      ],
      "source": [
        "vthreshold = np.linspace(.2, .28, 33, endpoint = True) \n",
        "n_components = [6, 7, 8, 9]\n",
        "\n",
        "estimator = GridSearchCV(pipe, dict(selector__threshold = vthreshold, pca__n_components = n_components), \n",
        "                         cv = 10, scoring = 'accuracy', n_jobs = -1).fit(X_train, y_train)\n",
        "print(f\"Best Parameters: {estimator.best_params_}\")\n",
        "print(f\"Best Score: {100 * estimator.best_score_:.3f}%\")"
      ]
    },
    {
      "cell_type": "markdown",
      "metadata": {
        "id": "BFu8Vx7GQGGZ"
      },
      "source": [
        "######Χωρίς Sampler & PCA"
      ]
    },
    {
      "cell_type": "code",
      "execution_count": null,
      "metadata": {
        "id": "1WztdR8pH93Z"
      },
      "outputs": [],
      "source": [
        "pipe = Pipeline(steps=[('selector', selector), ('scaler', scaler), ('gnb', clf)], memory = 'tmp')"
      ]
    },
    {
      "cell_type": "code",
      "execution_count": null,
      "metadata": {
        "id": "nvfNp6q4IP3z",
        "colab": {
          "base_uri": "https://localhost:8080/"
        },
        "outputId": "b19c67c9-32a9-4408-b933-aa1195ede716"
      },
      "outputs": [
        {
          "output_type": "stream",
          "name": "stdout",
          "text": [
            "Best Parameters: {'selector__threshold': 0.0}\n",
            "Best Score: 87.400%\n"
          ]
        }
      ],
      "source": [
        "vthreshold = np.linspace(0, .3, 41, endpoint = True) \n",
        "\n",
        "estimator = GridSearchCV(pipe, dict(selector__threshold = vthreshold), cv = 10, \n",
        "                         scoring = 'accuracy', n_jobs = -1).fit(X_train, y_train)\n",
        "print(f\"Best Parameters: {estimator.best_params_}\")\n",
        "print(f\"Best Score: {100 * estimator.best_score_:.3f}%\")"
      ]
    },
    {
      "cell_type": "markdown",
      "metadata": {
        "id": "jPIlhSLyP-yn"
      },
      "source": [
        "######Χωρίς Scaler & Sampler & PCA"
      ]
    },
    {
      "cell_type": "code",
      "execution_count": null,
      "metadata": {
        "id": "rbVObkgeKo-X"
      },
      "outputs": [],
      "source": [
        "pipe = Pipeline(steps=[('selector', selector), ('gnb', clf)], memory = 'tmp')"
      ]
    },
    {
      "cell_type": "code",
      "execution_count": null,
      "metadata": {
        "id": "-BvBvcYhKrlZ",
        "colab": {
          "base_uri": "https://localhost:8080/"
        },
        "outputId": "b72d8775-75fb-479f-d3a5-6aad9098864c"
      },
      "outputs": [
        {
          "output_type": "stream",
          "name": "stdout",
          "text": [
            "Best Parameters: {'selector__threshold': 0.0}\n",
            "Best Score: 87.800%\n"
          ]
        }
      ],
      "source": [
        "vthreshold = np.linspace(0, .3, 41, endpoint = True) \n",
        "\n",
        "estimator = GridSearchCV(pipe, dict(selector__threshold = vthreshold), cv = 10, \n",
        "                         scoring = 'accuracy', n_jobs = -1).fit(X_train, y_train)\n",
        "print(f\"Best Parameters: {estimator.best_params_}\")\n",
        "print(f\"Best Score: {100 * estimator.best_score_:.3f}%\")"
      ]
    },
    {
      "cell_type": "markdown",
      "metadata": {
        "id": "nru3qYl-QKpX"
      },
      "source": [
        "######Χωρίς Scaler & Sampler"
      ]
    },
    {
      "cell_type": "code",
      "execution_count": null,
      "metadata": {
        "id": "30a6KAeeK18M"
      },
      "outputs": [],
      "source": [
        "pipe = Pipeline(steps=[('selector', selector), ('pca', pca), ('gnb', clf)], memory = 'tmp')"
      ]
    },
    {
      "cell_type": "code",
      "execution_count": null,
      "metadata": {
        "id": "olbs4gIJK_D4",
        "colab": {
          "base_uri": "https://localhost:8080/"
        },
        "outputId": "2d3c803e-774f-4eb7-aab7-d63dab56a8a0"
      },
      "outputs": [
        {
          "output_type": "stream",
          "name": "stdout",
          "text": [
            "Best Parameters: {'pca__n_components': 10, 'selector__threshold': 0.24}\n",
            "Best Score: 89.000%\n"
          ]
        }
      ],
      "source": [
        "vthreshold = np.linspace(0, .28, 15, endpoint = True) \n",
        "n_components = [2, 4, 6, 8, 10]\n",
        "\n",
        "estimator = GridSearchCV(pipe, dict(selector__threshold = vthreshold, pca__n_components = n_components),\n",
        "                          cv = 10, scoring = 'accuracy', n_jobs = -1).fit(X_train, y_train)\n",
        "print(f\"Best Parameters: {estimator.best_params_}\")\n",
        "print(f\"Best Score: {100 * estimator.best_score_:.3f}%\")"
      ]
    },
    {
      "cell_type": "code",
      "execution_count": null,
      "metadata": {
        "id": "HBbMkc5NUCN7",
        "colab": {
          "base_uri": "https://localhost:8080/"
        },
        "outputId": "ee653c6c-5081-4f37-91da-372a502dbfb8"
      },
      "outputs": [
        {
          "output_type": "stream",
          "name": "stdout",
          "text": [
            "Best Parameters: {'pca__n_components': 8, 'selector__threshold': 0.25}\n",
            "Best Score: 90.233%\n"
          ]
        }
      ],
      "source": [
        "vthreshold = np.linspace(0, .3, 31, endpoint = True) \n",
        "n_components = [2, 4, 6, 8]\n",
        "\n",
        "estimator = GridSearchCV(pipe, dict(selector__threshold = vthreshold, pca__n_components = n_components),\n",
        "                          cv = 10, scoring = 'accuracy', n_jobs = -1).fit(X_train, y_train)\n",
        "print(f\"Best Parameters: {estimator.best_params_}\")\n",
        "print(f\"Best Score: {100 * estimator.best_score_:.3f}%\")"
      ]
    },
    {
      "cell_type": "code",
      "execution_count": null,
      "metadata": {
        "id": "W7fB12f8YddG",
        "colab": {
          "base_uri": "https://localhost:8080/"
        },
        "outputId": "91164094-03db-4ef2-cd63-1d766eec378e"
      },
      "outputs": [
        {
          "output_type": "stream",
          "name": "stdout",
          "text": [
            "Best Parameters: {'pca__n_components': 10, 'selector__threshold': 0.23500000000000001}\n",
            "Best Score: 90.633%\n"
          ]
        }
      ],
      "source": [
        "vthreshold = np.linspace(.2, .28, 33, endpoint = True) \n",
        "n_components = [8, 9, 10]\n",
        "\n",
        "estimator = GridSearchCV(pipe, dict(selector__threshold = vthreshold, pca__n_components = n_components),\n",
        "                          cv = 10, scoring = 'accuracy', n_jobs = -1).fit(X_train, y_train)\n",
        "print(f\"Best Parameters: {estimator.best_params_}\")\n",
        "print(f\"Best Score: {100 * estimator.best_score_:.3f}%\")"
      ]
    },
    {
      "cell_type": "code",
      "execution_count": null,
      "metadata": {
        "colab": {
          "base_uri": "https://localhost:8080/"
        },
        "id": "IAtBhJvKXKaM",
        "outputId": "a23e583d-a9ed-45bb-9903-c0504509efb4"
      },
      "outputs": [
        {
          "output_type": "stream",
          "name": "stdout",
          "text": [
            "Best Parameters: {'pca__n_components': 10, 'selector__threshold': 0.23500000000000001}\n",
            "Best Score: 90.633%\n"
          ]
        }
      ],
      "source": [
        "vthreshold = np.linspace(0, .27, 55, endpoint = True) \n",
        "n_components = [10, 12, 14]\n",
        "\n",
        "estimator = GridSearchCV(pipe, dict(selector__threshold = vthreshold, pca__n_components = n_components),\n",
        "                          cv = 10, scoring = 'accuracy', n_jobs = -1).fit(X_train, y_train)\n",
        "print(f\"Best Parameters: {estimator.best_params_}\")\n",
        "print(f\"Best Score: {100 * estimator.best_score_:.3f}%\")"
      ]
    },
    {
      "cell_type": "code",
      "source": [
        "# Our choice for 'maximizing accuracy'\n",
        "print(f\"GNB: Best Parameters: {estimator.best_estimator_}\")\n",
        "print(f\"     Training time {1000 * (estimator.refit_time_):.5f} ms\")\n",
        "start = time.time()\n",
        "gnb_preds = estimator.predict(X_test)\n",
        "stop = time.time()\n",
        "print(f\"     Classification time {1000 * (stop - start):.5f} ms\")\n",
        "print(f\"     Accuracy {100 * accuracy_score(y_test, preds):.3f}%\")"
      ],
      "metadata": {
        "colab": {
          "base_uri": "https://localhost:8080/"
        },
        "id": "Q387bcNMm8s1",
        "outputId": "81dbd581-5162-4eac-a627-51c53accc2da"
      },
      "execution_count": null,
      "outputs": [
        {
          "output_type": "stream",
          "name": "stdout",
          "text": [
            "GNB: Best Parameters: Pipeline(memory='tmp',\n",
            "         steps=[('selector', VarianceThreshold(threshold=0.23500000000000001)),\n",
            "                ('pca', PCA(n_components=10)), ('gnb', GaussianNB())])\n",
            "     Training time 9.31454 ms\n",
            "     Classification time 3.43204 ms\n",
            "     Accuracy 63.208%\n"
          ]
        }
      ]
    },
    {
      "cell_type": "markdown",
      "metadata": {
        "id": "OUjdOK__Lh_3"
      },
      "source": [
        "#####F1-Score"
      ]
    },
    {
      "cell_type": "markdown",
      "metadata": {
        "id": "eJzPFRSOfjpr"
      },
      "source": [
        "######Standard Pipeline"
      ]
    },
    {
      "cell_type": "code",
      "execution_count": null,
      "metadata": {
        "id": "WaY85O-cLhKH"
      },
      "outputs": [],
      "source": [
        "pipe = Pipeline(steps=[('selector', selector), ('scaler', scaler), ('sampler', ros), ('pca', pca), ('gnb', clf)], memory = 'tmp')"
      ]
    },
    {
      "cell_type": "code",
      "execution_count": null,
      "metadata": {
        "id": "3UAxfUNjQbdK",
        "colab": {
          "base_uri": "https://localhost:8080/"
        },
        "outputId": "ee29414c-3266-4e33-9dbd-7f8d7e0e1ac8"
      },
      "outputs": [
        {
          "output_type": "stream",
          "name": "stdout",
          "text": [
            "Best Parameters: {'pca__n_components': 8, 'selector__threshold': 0.26}\n",
            "Best Score: 89.807%\n"
          ]
        }
      ],
      "source": [
        "vthreshold = np.linspace(0, .3, 16, endpoint = True) \n",
        "n_components = [1, 2, 4, 6, 8]\n",
        "\n",
        "estimator = GridSearchCV(pipe, dict(selector__threshold = vthreshold, pca__n_components = n_components), \n",
        "                         cv = 10, scoring = f1_scorer, n_jobs = -1).fit(X_train, y_train)\n",
        "print(f\"Best Parameters: {estimator.best_params_}\")\n",
        "print(f\"Best Score: {100 * estimator.best_score_:.3f}%\")"
      ]
    },
    {
      "cell_type": "code",
      "execution_count": null,
      "metadata": {
        "colab": {
          "base_uri": "https://localhost:8080/"
        },
        "id": "qdUcbvYwgtFC",
        "outputId": "f82c5099-2859-4e2e-a97c-63d7d1fd2108"
      },
      "outputs": [
        {
          "output_type": "stream",
          "name": "stdout",
          "text": [
            "Best Parameters: {'pca__n_components': 11, 'selector__threshold': 0.0}\n",
            "Best Score: 89.802%\n"
          ]
        }
      ],
      "source": [
        "vthreshold = np.linspace(0, .27, 28, endpoint = True) \n",
        "n_components = [10, 11, 12]\n",
        "\n",
        "estimator = GridSearchCV(pipe, dict(selector__threshold = vthreshold, pca__n_components = n_components), \n",
        "                         cv = 10, scoring = f1_scorer, n_jobs = -1).fit(X_train, y_train)\n",
        "print(f\"Best Parameters: {estimator.best_params_}\")\n",
        "print(f\"Best Score: {100 * estimator.best_score_:.3f}%\")"
      ]
    },
    {
      "cell_type": "code",
      "execution_count": null,
      "metadata": {
        "colab": {
          "base_uri": "https://localhost:8080/"
        },
        "id": "auHu3vbXSZal",
        "outputId": "49ac2ed6-8d5c-46fd-d3b5-017b3a005c0a"
      },
      "outputs": [
        {
          "output_type": "stream",
          "name": "stdout",
          "text": [
            "Best Parameters: {'pca__n_components': 11, 'selector__threshold': 0.0}\n",
            "Best Score: 89.802%\n"
          ]
        }
      ],
      "source": [
        "vthreshold = np.linspace(.0, .2, 41, endpoint = True) \n",
        "n_components = [8, 9, 10, 11]\n",
        "\n",
        "estimator = GridSearchCV(pipe, dict(selector__threshold = vthreshold, pca__n_components = n_components), \n",
        "                         cv = 10, scoring = f1_scorer, n_jobs = -1).fit(X_train, y_train)\n",
        "print(f\"Best Parameters: {estimator.best_params_}\")\n",
        "print(f\"Best Score: {100 * estimator.best_score_:.3f}%\")"
      ]
    },
    {
      "cell_type": "markdown",
      "metadata": {
        "id": "X7CD9leG_ira"
      },
      "source": [
        "######Χωρίς Sampler & PCA"
      ]
    },
    {
      "cell_type": "code",
      "execution_count": null,
      "metadata": {
        "id": "9rvboD-f_lUY"
      },
      "outputs": [],
      "source": [
        "pipe = Pipeline(steps=[('selector', selector), ('scaler', scaler), ('gnb', clf)], memory = 'tmp')"
      ]
    },
    {
      "cell_type": "code",
      "execution_count": null,
      "metadata": {
        "colab": {
          "base_uri": "https://localhost:8080/"
        },
        "id": "9Ba6B-ych6Tw",
        "outputId": "bd5ced7b-77e0-4b84-ae44-a559db949cd6"
      },
      "outputs": [
        {
          "output_type": "stream",
          "name": "stdout",
          "text": [
            "Best Parameters: {'selector__threshold': 0.0}\n",
            "Best Score: 90.991%\n"
          ]
        }
      ],
      "source": [
        "vthreshold = np.linspace(0, .3, 41, endpoint = True) \n",
        "\n",
        "estimator = GridSearchCV(pipe, dict(selector__threshold = vthreshold), cv = 10, \n",
        "                         scoring = f1_scorer, n_jobs = -1).fit(X_train, y_train)\n",
        "print(f\"Best Parameters: {estimator.best_params_}\")\n",
        "print(f\"Best Score: {100 * estimator.best_score_:.3f}%\")"
      ]
    },
    {
      "cell_type": "markdown",
      "metadata": {
        "id": "ftDzHVaziD-n"
      },
      "source": [
        "######Χωρίς Scaler & Sampler & PCA"
      ]
    },
    {
      "cell_type": "code",
      "execution_count": null,
      "metadata": {
        "id": "JmAAw035iKG-"
      },
      "outputs": [],
      "source": [
        "pipe = Pipeline(steps=[('selector', selector), ('gnb', clf)], memory = 'tmp')"
      ]
    },
    {
      "cell_type": "code",
      "execution_count": null,
      "metadata": {
        "colab": {
          "base_uri": "https://localhost:8080/"
        },
        "id": "WYN7l7xaiXzf",
        "outputId": "8357f821-fe95-4e2d-c80a-9895e55206f8"
      },
      "outputs": [
        {
          "output_type": "stream",
          "name": "stdout",
          "text": [
            "Best Parameters: {'selector__threshold': 0.0}\n",
            "Best Score: 91.260%\n"
          ]
        }
      ],
      "source": [
        "vthreshold = np.linspace(0, .3, 41, endpoint = True) \n",
        "\n",
        "estimator = GridSearchCV(pipe, dict(selector__threshold = vthreshold), cv = 10, \n",
        "                         scoring = f1_scorer, n_jobs = -1).fit(X_train, y_train)\n",
        "print(f\"Best Parameters: {estimator.best_params_}\")\n",
        "print(f\"Best Score: {100 * estimator.best_score_:.3f}%\")"
      ]
    },
    {
      "cell_type": "markdown",
      "metadata": {
        "id": "efPM-lu_iioC"
      },
      "source": [
        "######Χωρίς Scaler & Sampler"
      ]
    },
    {
      "cell_type": "code",
      "execution_count": null,
      "metadata": {
        "id": "n79qBSPRimfC"
      },
      "outputs": [],
      "source": [
        "pipe = Pipeline(steps=[('selector', selector), ('pca', pca), ('gnb', clf)], memory = 'tmp')"
      ]
    },
    {
      "cell_type": "code",
      "execution_count": null,
      "metadata": {
        "colab": {
          "base_uri": "https://localhost:8080/"
        },
        "id": "zRUGKD8_ireL",
        "outputId": "1821b698-f6f5-4144-a1e9-5453b124ab67"
      },
      "outputs": [
        {
          "output_type": "stream",
          "name": "stdout",
          "text": [
            "Best Parameters: {'pca__n_components': 10, 'selector__threshold': 0.24}\n",
            "Best Score: 91.557%\n"
          ]
        }
      ],
      "source": [
        "vthreshold = np.linspace(0, .28, 15, endpoint = True) \n",
        "n_components = [2, 4, 6, 8, 10]\n",
        "\n",
        "estimator = GridSearchCV(pipe, dict(selector__threshold = vthreshold, pca__n_components = n_components),\n",
        "                          cv = 10, scoring = f1_scorer, n_jobs = -1).fit(X_train, y_train)\n",
        "print(f\"Best Parameters: {estimator.best_params_}\")\n",
        "print(f\"Best Score: {100 * estimator.best_score_:.3f}%\")"
      ]
    },
    {
      "cell_type": "code",
      "execution_count": null,
      "metadata": {
        "colab": {
          "base_uri": "https://localhost:8080/"
        },
        "id": "PYheHjAZkySm",
        "outputId": "9440c008-161d-4206-cc28-ca017bc7483a"
      },
      "outputs": [
        {
          "output_type": "stream",
          "name": "stdout",
          "text": [
            "Best Parameters: {'pca__n_components': 10, 'selector__threshold': 0.25}\n",
            "Best Score: 92.709%\n"
          ]
        }
      ],
      "source": [
        "vthreshold = np.linspace(0, .27, 28, endpoint = True) \n",
        "n_components = [10, 11, 12]\n",
        "\n",
        "estimator = GridSearchCV(pipe, dict(selector__threshold = vthreshold, pca__n_components = n_components),\n",
        "                          cv = 10, scoring = f1_scorer, n_jobs = -1).fit(X_train, y_train)\n",
        "print(f\"Best Parameters: {estimator.best_params_}\")\n",
        "print(f\"Best Score: {100 * estimator.best_score_:.3f}%\")"
      ]
    },
    {
      "cell_type": "code",
      "execution_count": null,
      "metadata": {
        "colab": {
          "base_uri": "https://localhost:8080/"
        },
        "id": "fgn1UpwskuLa",
        "outputId": "661bc6b7-8c47-4ab1-ee75-72ab929d9afa"
      },
      "outputs": [
        {
          "output_type": "stream",
          "name": "stdout",
          "text": [
            "Best Parameters: {'pca__n_components': 9, 'selector__threshold': 0.2475}\n",
            "Best Score: 92.892%\n"
          ]
        }
      ],
      "source": [
        "vthreshold = np.linspace(.2, .27, 29, endpoint = True) \n",
        "n_components = [8, 9, 10, 11]\n",
        "\n",
        "estimator = GridSearchCV(pipe, dict(selector__threshold = vthreshold, pca__n_components = n_components),\n",
        "                          cv = 10, scoring = f1_scorer, n_jobs = -1).fit(X_train, y_train)\n",
        "print(f\"Best Parameters: {estimator.best_params_}\")\n",
        "print(f\"Best Score: {100 * estimator.best_score_:.3f}%\")"
      ]
    },
    {
      "cell_type": "code",
      "execution_count": null,
      "metadata": {
        "colab": {
          "base_uri": "https://localhost:8080/"
        },
        "id": "_PZfscdfXiSh",
        "outputId": "be894e23-7ac0-46d7-9c01-dc510324f9c7"
      },
      "outputs": [
        {
          "output_type": "stream",
          "name": "stdout",
          "text": [
            "Best Parameters: {'pca__n_components': 9, 'selector__threshold': 0.248}\n",
            "Best Score: 92.892%\n"
          ]
        }
      ],
      "source": [
        "vthreshold = np.linspace(.24, .25, 11, endpoint = True) \n",
        "n_components = [8, 9, 10]\n",
        "\n",
        "estimator = GridSearchCV(pipe, dict(selector__threshold = vthreshold, pca__n_components = n_components),\n",
        "                          cv = 10, scoring = f1_scorer, n_jobs = -1).fit(X_train, y_train)\n",
        "print(f\"Best Parameters: {estimator.best_params_}\")\n",
        "print(f\"Best Score: {100 * estimator.best_score_:.3f}%\")"
      ]
    },
    {
      "cell_type": "code",
      "source": [
        "# Our choice for 'maximizing f1-score'\n",
        "print(f\"GNB: Best Estimator: {estimator.best_estimator_}\")\n",
        "print(f\"     Training time {1000 * (estimator.refit_time_):.5f} ms\")\n",
        "start = time.time()\n",
        "preds = estimator.predict(X_test)\n",
        "stop = time.time()\n",
        "print(f\"     Classification time {1000 * (stop - start):.5f} ms\")\n",
        "print(f\"     F1-score {100 * f1_score(y_test, preds, pos_label = 'g'):.3f}%\")"
      ],
      "metadata": {
        "colab": {
          "base_uri": "https://localhost:8080/"
        },
        "id": "SrQxYOHIntnq",
        "outputId": "312bda72-c922-4b8e-cf2a-f6f591c0adfe"
      },
      "execution_count": null,
      "outputs": [
        {
          "output_type": "stream",
          "name": "stdout",
          "text": [
            "GNB: Best Estimator: Pipeline(memory='tmp',\n",
            "         steps=[('selector', VarianceThreshold(threshold=0.248)),\n",
            "                ('pca', PCA(n_components=9)), ('gnb', GaussianNB())])\n",
            "     Training time 9.31239 ms\n",
            "     Classification time 4.38166 ms\n",
            "     F1-score 95.714%\n"
          ]
        }
      ]
    },
    {
      "cell_type": "markdown",
      "source": [
        "#####Συμπεράσματα"
      ],
      "metadata": {
        "id": "3dtmyIUIyt9v"
      }
    },
    {
      "cell_type": "markdown",
      "metadata": {
        "id": "U-P7iKEJWNzM"
      },
      "source": [
        "Συνολικά για τον GNB επιλέγουμε:\n",
        "\n",
        "- Για accuracy: `10` PCA συνιστώσες και threshold `0.235` στον variance selector.\n",
        "(Όχι sampler ή scaler)\n",
        "- Για F1-score: `9` PCA συνιστώσες και threshold `0.248` στον variance selector.\n",
        "(Όχι sampler ή scaler)\n"
      ]
    },
    {
      "cell_type": "markdown",
      "source": [
        "Ενδεχομένως να ήταν χρήσιμο πέρα από τη μέση μετρική \"απόδοση\" στο 10-fold cross validation, να αξιολογούσαμε και την τυπική απόκλιση κάθε πειράματος. (Θεωρητικά θέλουμε υψηλή μέση τιμή στη μετρική που επιθυμούμε, όμως ταυτοχρόνως θέλουμε να είμαστε \"κοντά\" στη μέση τιμή αυτή, άρα μικρή τυπική απόκλιση)"
      ],
      "metadata": {
        "id": "8xNjyIg6NQKh"
      }
    },
    {
      "cell_type": "markdown",
      "metadata": {
        "id": "sQsD1GQny3qk"
      },
      "source": [
        "#### k-NN Optimization"
      ]
    },
    {
      "cell_type": "markdown",
      "source": [
        "Για τον K-NN ταξινομητή `KNeighborsClassifier` που παρέχει η βιβλιοθήκη sklearn, υπάρχουν ορισμένες παράμετροι που αλλάζουν τη λειτουργία του. Ορισμένες από αυτές, όπως `algorithm`, `leaf_size` και `n_jobs` αλλάζουν κυρίως την ταχύτητα εκτέλεσης του αλγορίθμου. Σε αυτές επιλέγουμε να αφήσουμε τις default τιμές, εκτώς από την `n_jobs` η οποία καθορίζει το πλήθος των επεξεργαστών που αξιοποιούνται για τους υπολογισμούς (επιλέγουμε τιμή -1, ώστε να αξιοποιήσουμε τις μέγιστες δυνατότητες παραλληλισμού του υπολογιστικού συστήματος).\n",
        "\n",
        "Ορισμένες από τις παραμέτρους, όπως οι `p`, `metric`, `metric_params`, αλλάζουν το είδος των αποστάσεων που υπολογίζονται. Επιλέγουμε να αφήσουμε τις default τιμές, ώστε να χρησιμοποιήσουμε τη συνηθισμένη ευκλείδεια απόσταση.\n",
        "\n",
        "Ως υπερπαραμέτρους θεωρούμε τις `n_neighbors` και την `weights`. Η πρώτη καθορίζει το πλήθως των κοντινότερων σημείων που εξετάζονται για την ταξινόμηση κάθε δείγματος. Η δεύτερη καθορίζει αν καθ'ένα από τα σημεία αυτά θα συνεισφέρουν εξίσου στην απόφαση. Για την `weights` η sklearn παρέχει δύο \"έτοιμες\" τιμές, την `uniform`, όπου τα σημεία συνεισφέρουν εξίσου, και την `distance`, όπου τα κοντινότερα σημεία συνεισφέρουν περισσότερο από όσα βρίσκονται πιο μακρυά. \n",
        "\n",
        "Στο πλαίσιο της εργασίας επιλέξαμε να εξετάσουμε μόνο την `n_neighbors`, και να αφήσουμε στην `weights` την default `uniform` τιμή."
      ],
      "metadata": {
        "id": "kHhuLN33_CLW"
      }
    },
    {
      "cell_type": "code",
      "source": [
        "def knn_est(steps, params, scorer, CV = 10):\n",
        "    pipe = Pipeline(steps, memory = 'tmp')\n",
        "    est = GridSearchCV(pipe, params, cv = CV, scoring = scorer, n_jobs = -1)\n",
        "    return est.fit(X_train, y_train)\n",
        "\n",
        "def search_hp(steps, vthreshold, n_components, k, scorer):\n",
        "    params = dict(kNN__n_neighbors = k)\n",
        "    if vthreshold is not None: params['selector__threshold'] = vthreshold\n",
        "    if n_components is not None: params['pca__n_components'] = n_components\n",
        "    est = knn_est(steps, params, scorer, CV = 10)\n",
        "    # print(est.best_estimator_)\n",
        "    print(est.best_params_)\n",
        "    print(est.best_score_)\n",
        "    return est"
      ],
      "metadata": {
        "id": "LaFNjWzR_Kdc"
      },
      "execution_count": null,
      "outputs": []
    },
    {
      "cell_type": "markdown",
      "source": [
        "##### Accuracy"
      ],
      "metadata": {
        "id": "nPb9wOOc_UBr"
      }
    },
    {
      "cell_type": "code",
      "source": [
        "def search_a():\n",
        "    return search_hp(steps, thr, ncomp, k, 'accuracy')"
      ],
      "metadata": {
        "id": "Nu7I0u0z_Oiw"
      },
      "execution_count": null,
      "outputs": []
    },
    {
      "cell_type": "markdown",
      "source": [
        "###### Full Pipeline"
      ],
      "metadata": {
        "id": "IpORGAAI_dYo"
      }
    },
    {
      "cell_type": "code",
      "source": [
        "clf = KNeighborsClassifier(n_neighbors = 1, n_jobs = - 1)\n",
        "steps = [('selector', selector), ('scaler', scaler), ('sampler', ros), ('pca', pca), ('kNN', clf)]"
      ],
      "metadata": {
        "id": "SGQL0GfR_h32"
      },
      "execution_count": null,
      "outputs": []
    },
    {
      "cell_type": "code",
      "source": [
        "thr = np.linspace(0, .3, 11)\n",
        "ncomp = [1, 2, 4, 6, 8]\n",
        "k = [1, 3, 5, 7]"
      ],
      "metadata": {
        "id": "BLQnsRA7_i48"
      },
      "execution_count": null,
      "outputs": []
    },
    {
      "cell_type": "code",
      "source": [
        "est = search_a()"
      ],
      "metadata": {
        "id": "Vs1ioOHt_lPw",
        "colab": {
          "base_uri": "https://localhost:8080/"
        },
        "outputId": "e4ef7d77-5876-4798-82a9-c7a6e0675841"
      },
      "execution_count": null,
      "outputs": [
        {
          "output_type": "stream",
          "name": "stdout",
          "text": [
            "{'kNN__n_neighbors': 7, 'pca__n_components': 6, 'selector__threshold': 0.0}\n",
            "0.8988333333333334\n"
          ]
        }
      ]
    },
    {
      "cell_type": "code",
      "source": [
        "ncomp = [6, 7, 8, 9]\n",
        "est = search_a()"
      ],
      "metadata": {
        "id": "4IQ0aqtB_nNh",
        "colab": {
          "base_uri": "https://localhost:8080/"
        },
        "outputId": "67cf36bc-2d27-4c57-f4be-4d38047b7fb2"
      },
      "execution_count": null,
      "outputs": [
        {
          "output_type": "stream",
          "name": "stdout",
          "text": [
            "{'kNN__n_neighbors': 7, 'pca__n_components': 6, 'selector__threshold': 0.0}\n",
            "0.8988333333333334\n"
          ]
        }
      ]
    },
    {
      "cell_type": "code",
      "source": [
        "thr = np.linspace(.15, .3, 22, endpoint = True)\n",
        "ncomp = [6, 7, 8, 9]\n",
        "best_est = search_a()"
      ],
      "metadata": {
        "id": "jbqHVFK0_pQv",
        "colab": {
          "base_uri": "https://localhost:8080/"
        },
        "outputId": "911fb288-c1de-4695-89b5-1fbc85cbafb2"
      },
      "execution_count": null,
      "outputs": [
        {
          "output_type": "stream",
          "name": "stdout",
          "text": [
            "{'kNN__n_neighbors': 3, 'pca__n_components': 9, 'selector__threshold': 0.2571428571428571}\n",
            "0.8985\n"
          ]
        }
      ]
    },
    {
      "cell_type": "markdown",
      "source": [
        "###### Χωρίς Scaler, Sampler, PCA"
      ],
      "metadata": {
        "id": "O0z_bnK4_u_r"
      }
    },
    {
      "cell_type": "code",
      "source": [
        "steps = [('selector', selector), ('kNN', clf)]\n",
        "k = [1, 3, 5, 7, 9]\n",
        "thr = None\n",
        "ncomp = None\n",
        "est = search_a()"
      ],
      "metadata": {
        "id": "CzdjrmNL_rsA",
        "colab": {
          "base_uri": "https://localhost:8080/"
        },
        "outputId": "7cb0b713-e224-400c-995f-d67743680f4d"
      },
      "execution_count": null,
      "outputs": [
        {
          "output_type": "stream",
          "name": "stdout",
          "text": [
            "{'kNN__n_neighbors': 1}\n",
            "0.8616666666666667\n"
          ]
        }
      ]
    },
    {
      "cell_type": "markdown",
      "source": [
        "###### Χωρίς Sampler, PCA"
      ],
      "metadata": {
        "id": "oPBrTBVF_zqh"
      }
    },
    {
      "cell_type": "code",
      "source": [
        "steps = [('selector', selector), ('scaler', scaler), ('kNN', clf)]\n",
        "k = [1, 3, 5, 7, 9]\n",
        "thr = thr = np.linspace(0, .3, 22)\n",
        "ncomp = None\n",
        "est = search_a()"
      ],
      "metadata": {
        "id": "njvYNGlv_x25",
        "colab": {
          "base_uri": "https://localhost:8080/"
        },
        "outputId": "ebde3f33-20dd-4245-afa6-b93544055dba"
      },
      "execution_count": null,
      "outputs": [
        {
          "output_type": "stream",
          "name": "stdout",
          "text": [
            "{'kNN__n_neighbors': 1, 'selector__threshold': 0.2571428571428571}\n",
            "0.8616666666666667\n"
          ]
        }
      ]
    },
    {
      "cell_type": "markdown",
      "source": [
        "###### Χωρίς Scaler, Sampler"
      ],
      "metadata": {
        "id": "EwX4SpHJ_58Z"
      }
    },
    {
      "cell_type": "code",
      "source": [
        "steps = [('selector', selector), ('pca', pca), ('kNN', clf)]"
      ],
      "metadata": {
        "id": "_9cRRpZa_3nA"
      },
      "execution_count": null,
      "outputs": []
    },
    {
      "cell_type": "code",
      "source": [
        "k = [1, 3, 5, 7]\n",
        "thr = None\n",
        "ncomp = [1, 2, 4, 6, 8]\n",
        "est = search_a()"
      ],
      "metadata": {
        "id": "SCZu5332_9nY",
        "colab": {
          "base_uri": "https://localhost:8080/"
        },
        "outputId": "9b081a66-dd9f-4bb3-809c-85d12a6286e5"
      },
      "execution_count": null,
      "outputs": [
        {
          "output_type": "stream",
          "name": "stdout",
          "text": [
            "{'kNN__n_neighbors': 3, 'pca__n_components': 4}\n",
            "0.8541666666666667\n"
          ]
        }
      ]
    },
    {
      "cell_type": "code",
      "source": [
        "ncomp = range(1, 10)\n",
        "est = search_a()"
      ],
      "metadata": {
        "id": "B2qkwaoU__6l",
        "colab": {
          "base_uri": "https://localhost:8080/"
        },
        "outputId": "8e27e65a-d694-4a62-8cf7-628ef5527aa2"
      },
      "execution_count": null,
      "outputs": [
        {
          "output_type": "stream",
          "name": "stdout",
          "text": [
            "{'kNN__n_neighbors': 7, 'pca__n_components': 5}\n",
            "0.8583333333333334\n"
          ]
        }
      ]
    },
    {
      "cell_type": "code",
      "source": [
        "k = [1, 3, 5, 7, 9, 11]\n",
        "est = search_a()"
      ],
      "metadata": {
        "id": "tn8x29irAAmX",
        "colab": {
          "base_uri": "https://localhost:8080/"
        },
        "outputId": "99e67df7-c231-4cc0-f84f-597dd97b86a6"
      },
      "execution_count": null,
      "outputs": [
        {
          "output_type": "stream",
          "name": "stdout",
          "text": [
            "{'kNN__n_neighbors': 9, 'pca__n_components': 5}\n",
            "0.8623333333333333\n"
          ]
        }
      ]
    },
    {
      "cell_type": "code",
      "source": [
        "# Our choice for 'maximizing Accuracy'\n",
        "print(f\"KNN: Best Estimator: {best_est.best_estimator_}\")\n",
        "print(f\"     Training time {1000 * (best_est.refit_time_):.5f} ms\")\n",
        "start = time.time()\n",
        "preds = best_est.predict(X_test)\n",
        "stop = time.time()\n",
        "print(f\"     Classification time {1000 * (stop - start):.5f} ms\")\n",
        "print(f\"     Accuracy {100 * accuracy_score(y_test, preds):.3f}%\")"
      ],
      "metadata": {
        "id": "tqY4F_READi3",
        "colab": {
          "base_uri": "https://localhost:8080/"
        },
        "outputId": "5d8def9e-5ea5-4a8e-9b36-19b4d6af9f46"
      },
      "execution_count": null,
      "outputs": [
        {
          "output_type": "stream",
          "name": "stdout",
          "text": [
            "KNN: Best Estimator: Pipeline(memory='tmp',\n",
            "         steps=[('selector', VarianceThreshold(threshold=0.2571428571428571)),\n",
            "                ('scaler', StandardScaler()), ('sampler', RandomOverSampler()),\n",
            "                ('pca', PCA(n_components=9)),\n",
            "                ('kNN', KNeighborsClassifier(n_jobs=-1, n_neighbors=3))])\n",
            "     Training time 23.76509 ms\n",
            "     Classification time 113.35206 ms\n",
            "     Accuracy 91.509%\n"
          ]
        }
      ]
    },
    {
      "cell_type": "markdown",
      "source": [
        "##### F1-score"
      ],
      "metadata": {
        "id": "YT27ldBQAG8b"
      }
    },
    {
      "cell_type": "code",
      "source": [
        "def search_f1():\n",
        "    return search_hp(steps, thr, ncomp, k, f1_scorer)"
      ],
      "metadata": {
        "id": "atA2I4X6ANLK"
      },
      "execution_count": null,
      "outputs": []
    },
    {
      "cell_type": "markdown",
      "source": [
        "###### Full Pipeline"
      ],
      "metadata": {
        "id": "6KKoy8doAL22"
      }
    },
    {
      "cell_type": "code",
      "source": [
        "clf = KNeighborsClassifier(n_neighbors = 1, n_jobs = - 1)\n",
        "steps = [('selector', selector), ('scaler', scaler), ('sampler', ros), ('pca', pca), ('kNN', clf)]"
      ],
      "metadata": {
        "id": "Je45pagaATEI"
      },
      "execution_count": null,
      "outputs": []
    },
    {
      "cell_type": "code",
      "source": [
        "thr = np.linspace(0, .3, 11)\n",
        "ncomp = [1, 2, 4, 6, 8]\n",
        "k = [1, 3, 5, 7]\n",
        "est = search_f1()"
      ],
      "metadata": {
        "id": "8n25SR41ATyt",
        "colab": {
          "base_uri": "https://localhost:8080/"
        },
        "outputId": "2e2eac76-06af-416b-fc82-4df3fc9d5553"
      },
      "execution_count": null,
      "outputs": [
        {
          "output_type": "stream",
          "name": "stdout",
          "text": [
            "{'kNN__n_neighbors': 7, 'pca__n_components': 6, 'selector__threshold': 0.0}\n",
            "0.925320078666853\n"
          ]
        }
      ]
    },
    {
      "cell_type": "code",
      "source": [
        "ncomp = [6, 7, 8, 9]\n",
        "est = search_f1()"
      ],
      "metadata": {
        "id": "Za7neBh_AV-r",
        "colab": {
          "base_uri": "https://localhost:8080/"
        },
        "outputId": "07f74fab-b5c9-4070-a6c5-f26101c8f336"
      },
      "execution_count": null,
      "outputs": [
        {
          "output_type": "stream",
          "name": "stdout",
          "text": [
            "{'kNN__n_neighbors': 7, 'pca__n_components': 6, 'selector__threshold': 0.0}\n",
            "0.925320078666853\n"
          ]
        }
      ]
    },
    {
      "cell_type": "code",
      "source": [
        "thr = np.linspace(.2, .3, 21, endpoint = True)\n",
        "best_est = search_f1()"
      ],
      "metadata": {
        "id": "2wKpESiOAYPW",
        "colab": {
          "base_uri": "https://localhost:8080/"
        },
        "outputId": "f5309e5a-6daa-4934-ec89-5046c0798626"
      },
      "execution_count": null,
      "outputs": [
        {
          "output_type": "stream",
          "name": "stdout",
          "text": [
            "{'kNN__n_neighbors': 3, 'pca__n_components': 9, 'selector__threshold': 0.255}\n",
            "0.929375159154571\n"
          ]
        }
      ]
    },
    {
      "cell_type": "markdown",
      "source": [
        "###### Χωρίς Scaler, Sampler, PCA"
      ],
      "metadata": {
        "id": "MK6asj5fAdIa"
      }
    },
    {
      "cell_type": "code",
      "source": [
        "steps = [('selector', selector), ('kNN', clf)]\n",
        "thr = None\n",
        "ncomp = None\n",
        "k = [1, 3, 5, 7, 9]"
      ],
      "metadata": {
        "id": "piZN1LMIAedS"
      },
      "execution_count": null,
      "outputs": []
    },
    {
      "cell_type": "code",
      "source": [
        "est = search_f1()"
      ],
      "metadata": {
        "id": "AovjMYCTAgZP",
        "colab": {
          "base_uri": "https://localhost:8080/"
        },
        "outputId": "99869019-c858-408b-dba1-ff5de35a8163"
      },
      "execution_count": null,
      "outputs": [
        {
          "output_type": "stream",
          "name": "stdout",
          "text": [
            "{'kNN__n_neighbors': 1}\n",
            "0.9015156820303879\n"
          ]
        }
      ]
    },
    {
      "cell_type": "markdown",
      "source": [
        "###### Χωρίς Sampler, PCA"
      ],
      "metadata": {
        "id": "g7lsTZImAi9-"
      }
    },
    {
      "cell_type": "code",
      "source": [
        "steps = [('selector', selector), ('scaler', scaler), ('kNN', clf)]\n",
        "thr = thr = np.linspace(0, .3, 11)\n",
        "est = search_f1()"
      ],
      "metadata": {
        "id": "60TNFzYZAnXW",
        "colab": {
          "base_uri": "https://localhost:8080/"
        },
        "outputId": "e192c588-a705-4907-d249-33378e3b7ef4"
      },
      "execution_count": null,
      "outputs": [
        {
          "output_type": "stream",
          "name": "stdout",
          "text": [
            "{'kNN__n_neighbors': 1, 'selector__threshold': 0.24}\n",
            "0.9100554746878275\n"
          ]
        }
      ]
    },
    {
      "cell_type": "markdown",
      "source": [
        "###### Χωρίς Scaler, Sampler"
      ],
      "metadata": {
        "id": "RCW5RY75AxTU"
      }
    },
    {
      "cell_type": "code",
      "source": [
        "steps = [('selector', selector), ('pca', pca), ('kNN', clf)]\n",
        "thr = None\n",
        "ncomp = range(1, 10)\n",
        "k = [1, 3, 5, 7, 9, 11]\n",
        "est = search_f1()"
      ],
      "metadata": {
        "id": "mSYurNvEArdE",
        "colab": {
          "base_uri": "https://localhost:8080/"
        },
        "outputId": "72b4db00-2a8f-46c7-e4ee-e9879c546abb"
      },
      "execution_count": null,
      "outputs": [
        {
          "output_type": "stream",
          "name": "stdout",
          "text": [
            "{'kNN__n_neighbors': 11, 'pca__n_components': 5}\n",
            "0.902252276673529\n"
          ]
        }
      ]
    },
    {
      "cell_type": "code",
      "source": [
        "# Our choice for 'maximizing f1-score'\n",
        "print(f\"KNN: Best Estimator: {best_est.best_estimator_}\")\n",
        "print(f\"     Training time {1000 * (best_est.refit_time_):.5f} ms\")\n",
        "start = time.time()\n",
        "preds = best_est.predict(X_test)\n",
        "stop = time.time()\n",
        "print(f\"     Classification time {1000 * (stop - start):.5f} ms\")\n",
        "print(f\"     F1-score {100 * f1_score(y_test, preds, pos_label = 'g'):.3f}%\")"
      ],
      "metadata": {
        "id": "MZKn-j5vA2io",
        "colab": {
          "base_uri": "https://localhost:8080/"
        },
        "outputId": "6a36a5ad-987f-4dd8-c407-8d1c9d27cdaf"
      },
      "execution_count": null,
      "outputs": [
        {
          "output_type": "stream",
          "name": "stdout",
          "text": [
            "KNN: Best Estimator: Pipeline(memory='tmp',\n",
            "         steps=[('selector', VarianceThreshold(threshold=0.255)),\n",
            "                ('scaler', StandardScaler()), ('sampler', RandomOverSampler()),\n",
            "                ('pca', PCA(n_components=9)),\n",
            "                ('kNN', KNeighborsClassifier(n_jobs=-1, n_neighbors=3))])\n",
            "     Training time 18.45407 ms\n",
            "     Classification time 109.46798 ms\n",
            "     F1-score 93.706%\n"
          ]
        }
      ]
    },
    {
      "cell_type": "markdown",
      "metadata": {
        "id": "ANFIXwooc-5-"
      },
      "source": [
        "#### Logistic Regression Optimization"
      ]
    },
    {
      "cell_type": "markdown",
      "source": [
        "Δοκιμάζουμε τρία είδη pipelines:\n",
        "1.   Το πλήρες\n",
        "2.   Το πλήρες χωρίς το VarianceThreshold()\n",
        "3.   Το πλήρες χωρίς VarianceThreshold(), RandomOverSampler()\n",
        "\n"
      ],
      "metadata": {
        "id": "nhGu_rTRteg0"
      }
    },
    {
      "cell_type": "code",
      "execution_count": null,
      "metadata": {
        "id": "Z9FFw1-Xc-6B"
      },
      "outputs": [],
      "source": [
        "accuracy_scorer = 'accuracy'\n",
        "f1_scorer = make_scorer(f1_score, pos_label = 'g')\n",
        "\n",
        "f_accuracy_score = accuracy_score\n",
        "f_f1_score = lambda exp, test: f1_score(exp, test, pos_label = 'g')\n",
        "\n",
        "clf = LogisticRegression()\n",
        "pipe0 = Pipeline(steps=[('selector', selector), ('scaler', scaler), ('sampler', ros), ('pca', pca), ('lr', clf)])\n",
        "pipe1 = Pipeline(steps=[('selector', selector), ('scaler', scaler), ('pca', pca), ('lr', clf)]) # No sampler\n",
        "pipe2 = Pipeline(steps=[('scaler', scaler), ('pca', pca), ('lr', clf)]) # No selector & sampler\n",
        "pipe = [pipe0, pipe1, pipe2]\n",
        "\n",
        "CVFOLD = 10\n",
        "\n",
        "#Reminder: Dont use X_test prediction for conclusion!\n",
        "def est(scorer_name, scoring, i_pipe, vthreshold, n_components):\n",
        "  print(f\"Now testing pipe #{i_pipe}.\")\n",
        "\n",
        "  # refit=True (default): After finding best parameters, fit on data\n",
        "  params = dict(pca__n_components = n_components) if i_pipe==2 else dict(selector__threshold = vthreshold, pca__n_components = n_components)\n",
        "  estimator = GridSearchCV(pipe[i_pipe], params, cv = CVFOLD, scoring = scoring, error_score = 0, n_jobs = -1).fit(X_train, y_train)\n",
        "  print(f\"Best Parameters for {scorer_name}: {estimator.best_params_}\")\n",
        "  print(f\"Best {scorer_name}: {100 * estimator.best_score_:.3f}%\")\n",
        "  return estimator\n",
        "\n",
        "def report(estimator, scorer_name, f_score):\n",
        "  print(f\"Time spent to fit: {estimator.refit_time_:.6f} seconds\")  \n",
        "\n",
        "  start_time = time.time()  \n",
        "  preds = estimator.predict(X_test)\n",
        "  print(f\"Time spent to test: {time.time() - start_time:.6f} seconds\")  \n",
        "  print(f\"{scorer_name} on test set: {100 * f_score(y_test, preds):.3f}%\")\n",
        "\n",
        "  return preds"
      ]
    },
    {
      "cell_type": "markdown",
      "source": [
        "##### Η πρώτη δοκιμή"
      ],
      "metadata": {
        "id": "AuAx2x2WEw0y"
      }
    },
    {
      "cell_type": "code",
      "source": [
        "vthreshold_1 = np.linspace(0, .3, 7, endpoint = True)   # selector = VarianceThreshold()\n",
        "pass                                                    # scaler\n",
        "pass                                                    # sampler\n",
        "n_components_1 = range(1, 9+1)                          # pca = PCA()\n",
        "pass                                                    # Classifier"
      ],
      "metadata": {
        "id": "juRchmofE56B"
      },
      "execution_count": null,
      "outputs": []
    },
    {
      "cell_type": "markdown",
      "source": [
        "###### Accuracy"
      ],
      "metadata": {
        "id": "QEbspU6lw76O"
      }
    },
    {
      "cell_type": "code",
      "source": [
        "_ = est(\"Accuracy\", accuracy_scorer, 0, vthreshold_1, n_components_1)"
      ],
      "metadata": {
        "colab": {
          "base_uri": "https://localhost:8080/"
        },
        "id": "A6WjORbBt35D",
        "outputId": "561b4029-f274-4b0b-90c3-bbfba25e79ee"
      },
      "execution_count": null,
      "outputs": [
        {
          "output_type": "stream",
          "name": "stdout",
          "text": [
            "Now testing pipe #0.\n",
            "Best Parameters for Accuracy: {'pca__n_components': 8, 'selector__threshold': 0.049999999999999996}\n",
            "Best Accuracy: 83.800%\n"
          ]
        }
      ]
    },
    {
      "cell_type": "code",
      "source": [
        "_ = est(\"Accuracy\", accuracy_scorer, 1, vthreshold_1, n_components_1)"
      ],
      "metadata": {
        "colab": {
          "base_uri": "https://localhost:8080/"
        },
        "outputId": "d41ca274-2262-449e-ab3a-a6a4424a6dca",
        "id": "HpS6362kw3SG"
      },
      "execution_count": null,
      "outputs": [
        {
          "output_type": "stream",
          "name": "stdout",
          "text": [
            "Now testing pipe #1.\n",
            "Best Parameters for Accuracy: {'pca__n_components': 9, 'selector__threshold': 0.0}\n",
            "Best Accuracy: 86.600%\n"
          ]
        }
      ]
    },
    {
      "cell_type": "code",
      "source": [
        "_ = est(\"Accuracy\", accuracy_scorer, 2, vthreshold_1, n_components_1)"
      ],
      "metadata": {
        "colab": {
          "base_uri": "https://localhost:8080/"
        },
        "outputId": "c245d7e6-a6ed-4bec-ca62-ee9f332329d9",
        "id": "dpve1T8sw3-K"
      },
      "execution_count": null,
      "outputs": [
        {
          "output_type": "stream",
          "name": "stdout",
          "text": [
            "Now testing pipe #2.\n",
            "Best Parameters for Accuracy: {'pca__n_components': 9}\n",
            "Best Accuracy: 86.600%\n"
          ]
        }
      ]
    },
    {
      "cell_type": "markdown",
      "source": [
        "###### F1-score"
      ],
      "metadata": {
        "id": "x1Cga51HxAju"
      }
    },
    {
      "cell_type": "code",
      "source": [
        "_ = est(\"F1-Score\", f1_scorer, 0, vthreshold_1, n_components_1)"
      ],
      "metadata": {
        "colab": {
          "base_uri": "https://localhost:8080/"
        },
        "id": "fbEadi5Xt_0k",
        "outputId": "7ccff6fd-c713-4e02-e367-61e82e7934a5"
      },
      "execution_count": null,
      "outputs": [
        {
          "output_type": "stream",
          "name": "stdout",
          "text": [
            "Now testing pipe #0.\n",
            "Best Parameters for F1-Score: {'pca__n_components': 6, 'selector__threshold': 0.0}\n",
            "Best F1-Score: 87.664%\n"
          ]
        }
      ]
    },
    {
      "cell_type": "code",
      "source": [
        "_ = est(\"F1-Score\", f1_scorer, 1, vthreshold_1, n_components_1)"
      ],
      "metadata": {
        "colab": {
          "base_uri": "https://localhost:8080/"
        },
        "outputId": "a9610b31-cb20-4631-c7ba-6760dc88d01e",
        "id": "gN0pePmKxMhM"
      },
      "execution_count": null,
      "outputs": [
        {
          "output_type": "stream",
          "name": "stdout",
          "text": [
            "Now testing pipe #1.\n",
            "Best Parameters for F1-Score: {'pca__n_components': 9, 'selector__threshold': 0.0}\n",
            "Best F1-Score: 90.064%\n"
          ]
        }
      ]
    },
    {
      "cell_type": "code",
      "source": [
        "_ = est(\"F1-Score\", f1_scorer, 2, vthreshold_1, n_components_1)"
      ],
      "metadata": {
        "colab": {
          "base_uri": "https://localhost:8080/"
        },
        "outputId": "58c5edba-3178-4380-9579-488d65ac43fe",
        "id": "CQ-hoY11xMu0"
      },
      "execution_count": null,
      "outputs": [
        {
          "output_type": "stream",
          "name": "stdout",
          "text": [
            "Now testing pipe #2.\n",
            "Best Parameters for F1-Score: {'pca__n_components': 9}\n",
            "Best F1-Score: 90.064%\n"
          ]
        }
      ]
    },
    {
      "cell_type": "markdown",
      "source": [
        "##### Δεύτερη δοκιμή: Πιο λεπτομερές stepping των υπερ-παραμέτρων\n",
        "Μειώνουμε το άνω όριο των `vthreshold` και αυξάνουμε το κάτω όριο και άνω όριο των `n_components`."
      ],
      "metadata": {
        "id": "cbG9BAM7HbpP"
      }
    },
    {
      "cell_type": "code",
      "source": [
        "vthreshold_2 = np.linspace(0, .1, 11, endpoint = True)  # selector = VarianceThreshold()\n",
        "pass                                                    # scaler\n",
        "pass                                                    # sampler\n",
        "n_components_2 = range(4, 32+1)                         # pca = PCA()\n",
        "pass                                                    # Classifier"
      ],
      "metadata": {
        "id": "7MqXNCr9HbpR"
      },
      "execution_count": null,
      "outputs": []
    },
    {
      "cell_type": "markdown",
      "source": [
        "###### Accuracy"
      ],
      "metadata": {
        "id": "phfXG_esHbpS"
      }
    },
    {
      "cell_type": "code",
      "source": [
        "_ = est(\"Accuracy\", accuracy_scorer, 0, vthreshold_2, n_components_2)"
      ],
      "metadata": {
        "colab": {
          "base_uri": "https://localhost:8080/"
        },
        "id": "QKnVg3PqHbpT",
        "outputId": "b899ae86-0005-46cf-eb8c-77cb0ff2be6f"
      },
      "execution_count": null,
      "outputs": [
        {
          "output_type": "stream",
          "name": "stdout",
          "text": [
            "Now testing pipe #0.\n",
            "Best Parameters for Accuracy: {'pca__n_components': 28, 'selector__threshold': 0.07}\n",
            "Best Accuracy: 89.433%\n"
          ]
        }
      ]
    },
    {
      "cell_type": "code",
      "source": [
        "_ = est(\"Accuracy\", accuracy_scorer, 1, vthreshold_2, n_components_2)"
      ],
      "metadata": {
        "colab": {
          "base_uri": "https://localhost:8080/"
        },
        "id": "hKM3ul96HbpU",
        "outputId": "fe21c840-559f-4380-b7d3-7f7d252c2cdd"
      },
      "execution_count": null,
      "outputs": [
        {
          "output_type": "stream",
          "name": "stdout",
          "text": [
            "Now testing pipe #1.\n",
            "Best Parameters for Accuracy: {'pca__n_components': 21, 'selector__threshold': 0.0}\n",
            "Best Accuracy: 89.467%\n"
          ]
        }
      ]
    },
    {
      "cell_type": "code",
      "source": [
        "# Our choice for maximizing accuracy. It maximized the CV accuracy and is simpler than the previous architecture.\n",
        "estimator = est(\"Accuracy\", accuracy_scorer, 2, vthreshold_2, n_components_2)\n",
        "lr_preds = report(estimator, \"Accuracy\", f_accuracy_score)"
      ],
      "metadata": {
        "colab": {
          "base_uri": "https://localhost:8080/"
        },
        "id": "rDdSM1bYHbpV",
        "outputId": "161fc12d-6722-4cc2-d871-1b0485dc8d73"
      },
      "execution_count": null,
      "outputs": [
        {
          "output_type": "stream",
          "name": "stdout",
          "text": [
            "Now testing pipe #2.\n",
            "Best Parameters for Accuracy: {'pca__n_components': 21}\n",
            "Best Accuracy: 89.467%\n",
            "Time spent to fit: 0.015415 seconds\n",
            "Time spent to test: 0.003019 seconds\n",
            "Accuracy on test set: 89.623%\n"
          ]
        }
      ]
    },
    {
      "cell_type": "markdown",
      "source": [
        "###### F1-score"
      ],
      "metadata": {
        "id": "EjJWl1eWHbpX"
      }
    },
    {
      "cell_type": "code",
      "source": [
        "_ = est(\"F1-Score\", f1_scorer, 0, vthreshold_2, n_components_2)"
      ],
      "metadata": {
        "colab": {
          "base_uri": "https://localhost:8080/"
        },
        "outputId": "0ce206ba-64f6-40c8-ec43-4de6c04025b0",
        "id": "XnrcVFDFHbpY"
      },
      "execution_count": null,
      "outputs": [
        {
          "output_type": "stream",
          "name": "stdout",
          "text": [
            "Now testing pipe #0.\n",
            "Best Parameters for F1-Score: {'pca__n_components': 30, 'selector__threshold': 0.06}\n",
            "Best F1-Score: 91.150%\n"
          ]
        }
      ]
    },
    {
      "cell_type": "code",
      "source": [
        "_ = est(\"F1-Score\", f1_scorer, 1, vthreshold_2, n_components_2)"
      ],
      "metadata": {
        "colab": {
          "base_uri": "https://localhost:8080/"
        },
        "outputId": "aed04c7e-4736-4f7c-f167-92163cbfe0c8",
        "id": "qkHqOa5MHbpZ"
      },
      "execution_count": null,
      "outputs": [
        {
          "output_type": "stream",
          "name": "stdout",
          "text": [
            "Now testing pipe #1.\n",
            "Best Parameters for F1-Score: {'pca__n_components': 30, 'selector__threshold': 0.0}\n",
            "Best F1-Score: 92.208%\n"
          ]
        }
      ]
    },
    {
      "cell_type": "code",
      "source": [
        "# Our choice for maximizing f1-score. It maximized the CV f1-score and is simpler than the previous architecture.\n",
        "_ = est(\"F1-Score\", f1_scorer, 2, vthreshold_2, n_components_2)\n",
        "_ = report(estimator, \"F1-Score\", f_f1_score)"
      ],
      "metadata": {
        "colab": {
          "base_uri": "https://localhost:8080/"
        },
        "outputId": "548f69e8-1f29-41f7-888b-0f3fb28a68e2",
        "id": "sIkLEHsCHbpa"
      },
      "execution_count": null,
      "outputs": [
        {
          "output_type": "stream",
          "name": "stdout",
          "text": [
            "Now testing pipe #2.\n",
            "Best Parameters for F1-Score: {'pca__n_components': 30}\n",
            "Best F1-Score: 92.208%\n",
            "Time spent to fit: 0.015415 seconds\n",
            "Time spent to test: 0.002893 seconds\n",
            "F1-Score on test set: 92.308%\n"
          ]
        }
      ]
    },
    {
      "cell_type": "markdown",
      "source": [
        "## Αποτελέσματα και συμπεράσματα"
      ],
      "metadata": {
        "id": "g6EV9ujWvQ1k"
      }
    },
    {
      "cell_type": "markdown",
      "source": [
        "Παρακάτω παραθέτουμε για κάθε μία απο τις δύο μετρικές, τη βελτίωση που επέφερε το optimization σε σχέση με την out of the box επίδοση, όπως και τους χρόνους εκπαίδευσης και αξιολόγησης."
      ],
      "metadata": {
        "id": "_TSrYpT6mtSQ"
      }
    },
    {
      "cell_type": "markdown",
      "source": [
        "#### Accuracy"
      ],
      "metadata": {
        "id": "zpsOQhNFQ3VS"
      }
    },
    {
      "cell_type": "markdown",
      "source": [
        "|                 | **Dummy**| **GNB** | **k-NN** | **LR** |\n",
        "|:---------------:|:--------:|:-------:|:--------:|:------:|\n",
        "| Accuracy (%)    | 63.208   | 91.509  | 91.509   | 89.623 |\n",
        "| ΔΑccuracy (%)   | + 0.0    | +1.886  | +5.66    | +1.887 |\n",
        "| Train Time (ms) | 1.001    | 9.314   | 23.765   | 15.415 |\n",
        "| Test Time (ms)  | 1.077    | 3.432   | 113.352  | 3.019  |"
      ],
      "metadata": {
        "id": "EXNr0MCdI2Dw"
      }
    },
    {
      "cell_type": "code",
      "source": [
        "dummy_names, gnb_names = ['Dummy'], ['GNB', 'GNB Opt.']\n",
        "knn_names, lr_names = ['kNN', 'kNN Opt.'], ['LR', 'LR Opt.']\n",
        "dummy_acc, gnb_acc = [63.208], [89.623, 91.509] \n",
        "knn_acc, lr_acc = [85.849, 91.509], [87.736, 89.623]\n",
        "fig, ax = plt.subplots()\n",
        "ax.set_ylabel(\"Accuracy (%)\")\n",
        "ax.bar(dummy_names, dummy_acc)\n",
        "ax.bar(gnb_names, gnb_acc)\n",
        "ax.bar(knn_names, knn_acc)\n",
        "ax.bar(lr_names, lr_acc)\n",
        "plt.show()"
      ],
      "metadata": {
        "colab": {
          "base_uri": "https://localhost:8080/",
          "height": 265
        },
        "id": "YWDBf7PLO-tD",
        "outputId": "398c620f-5df4-49f8-f7d9-10d973b2d40d"
      },
      "execution_count": null,
      "outputs": [
        {
          "output_type": "display_data",
          "data": {
            "text/plain": [
              "<Figure size 432x288 with 1 Axes>"
            ],
            "image/png": "[encoded data removed]"
          },
          "metadata": {
            "needs_background": "light"
          }
        }
      ]
    },
    {
      "cell_type": "markdown",
      "source": [
        "|                 | **Dummy**| **GNB** | **k-NN** | **LR** |\n",
        "|:---------------:|:--------:|:-------:|:--------:|:------:|\n",
        "| F1-Score (%)    | 77.457   | 95.714  | 93.706   | 91.667 |\n",
        "| ΔF1 (%)         | + 0.0    | +3.515  | +3.773   | +0.633 |\n",
        "| Train Time (ms) | 1.478    | 9.312   | 18.454   | 15.415 |\n",
        "| Test Time (ms)  | 0.722    | 4.381   | 109.46   | 2.893  |"
      ],
      "metadata": {
        "id": "A6Cze7L1KuzY"
      }
    },
    {
      "cell_type": "markdown",
      "source": [
        "#### F1 Score"
      ],
      "metadata": {
        "id": "ktZPQvcAQ9zD"
      }
    },
    {
      "cell_type": "code",
      "source": [
        "dummy_names, gnb_names = ['Dummy'], ['GNB', 'GNB Opt.']\n",
        "knn_names, lr_names = ['kNN', 'kNN Opt.'], ['LR', 'LR Opt.']\n",
        "dummy_f1, gnb_f1 = [77.457], [92.199, 95.714] \n",
        "knn_f1, lr_f1 = [89.933, 93.706], [91.034, 91.667]\n",
        "fig, ax = plt.subplots()\n",
        "ax.set_ylabel(\"F1-Score (%)\")\n",
        "ax.bar(dummy_names, dummy_f1)\n",
        "ax.bar(gnb_names, gnb_f1)\n",
        "ax.bar(knn_names, knn_f1)\n",
        "ax.bar(lr_names, lr_f1)\n",
        "plt.show()"
      ],
      "metadata": {
        "colab": {
          "base_uri": "https://localhost:8080/",
          "height": 268
        },
        "id": "sTzVC7cNQQwm",
        "outputId": "f40a4f60-b302-4250-a29f-47963111d084"
      },
      "execution_count": null,
      "outputs": [
        {
          "output_type": "display_data",
          "data": {
            "text/plain": [
              "<Figure size 432x288 with 1 Axes>"
            ],
            "image/png": "[encoded data removed]"
          },
          "metadata": {
            "needs_background": "light"
          }
        }
      ]
    },
    {
      "cell_type": "markdown",
      "source": [
        "*Σημείωση:* Σαφώς οι χρόνοι που παραθέτουμε παραπάνω, μεταβάλλονται από εκτέλεση σε εκτέλεση, ενώ ενδεχομένως να μην είναι και τελείως ακριβείς (πχ. χρήση της `time()`), τους χρησιμοποιούμε για άτυπη ποιοτική αξιολόγηση."
      ],
      "metadata": {
        "id": "Cy0MItmPm-op"
      }
    },
    {
      "cell_type": "markdown",
      "source": [
        "#### Συμπεράσματα"
      ],
      "metadata": {
        "id": "ySKR3EKbmECL"
      }
    },
    {
      "cell_type": "markdown",
      "source": [
        "Όσον αφορά στους χρόνους παρατηρούμε πως ο kNN όπως είναι αναμενόμενο, έχει πολύ μεγάλους χρόνους ταξινόμησης και εκπαίδευσης. (Χρειάζεται για κάθε πρόβλεψη να υπολογισθεί η απόσταση που έχουμε επιλέξει, από κάθε σημείο του test dataset. Ωστόσο και στην εκπαίδευση χρειάζεται να γίνει classification στο validation set.) Παρατηρούμε επίσης πως ο GNB εκπαιδεύεται πιο γρήγορα από όλους, ενώ στο classification υπερτερεί κάπως ο LR έναντι του GNB όσον αφορά στη \"ταχύτητα\"."
      ],
      "metadata": {
        "id": "ymHuNU3BnOcz"
      }
    },
    {
      "cell_type": "markdown",
      "source": [
        "Προφανώς αν αγνοησουμε τους χρόνους εκπαίδευσης και απόκρισης όπου ο dummy classifier έχει το μεγαλύτερο πλεονέκτημα, βλέπουμε πως τόσο στην ootb, όσο και στις optimized εκδοχές, η απόδοση των ταξινομητών είναι σημαντικά υψηλότερη από την αντίστοιχη του dummy."
      ],
      "metadata": {
        "id": "7uJhl4xYrXnE"
      }
    },
    {
      "cell_type": "markdown",
      "source": [
        "Και στις δύο μετρικές, υπερτερεί ο GNB, ο οποίος ήδη υπερτερούσε στις out of the box συγκρίσεις. Ο kNN φαίνεται να επωφελήθηκε αρκετά από τα optimizations που κάναμε, ενώ από την άλλη ο LR δεν αύξησε ιδιαίτερα την απόδοση του, ειδικά στο f1 score."
      ],
      "metadata": {
        "id": "ewtokcfXoK6Y"
      }
    },
    {
      "cell_type": "markdown",
      "source": [
        "Τόσο από άποψη χρόνου όσο και επίδοσης, φαίνεται πως **αξίζει να επιλέξουμε τον GNB** και για τις δύο μετρικές που μας ενδιαφέρουν. \n",
        "\n",
        "Η μοντελοποίηση της συμπεριφοράς των ηλεκτρονιών με γκαουσιανές κατανομές δεν είναι κάτι πρωτόγνωρο στη θεωρία του ηλεκτρομαγνητισμού. (βλ. θερμικός θόρυβος) Μπορεί ενδεχομένως και στο πείραμα που εξετάζουμε, μιας και έχουμε να κάνουμε με ακτινοβολία ηλεκτρονίων, να περιγράφεται κάπως η συμπεριφορά των δεδομένων μας από κατάλληλες Γκαουσιανές κατανομές. Με βάση αυτές τις σκέψεις, δεν μας παραξενεύει πως ο GNB φαίνεται να αποδίδει πολύ καλά στο πρόβλημα ταξινόμησης που ασχοληθήκαμε."
      ],
      "metadata": {
        "id": "advwrF22oa4Z"
      }
    },
    {
      "cell_type": "markdown",
      "source": [
        "Παρακάτω παραθέτουμε το confusion matrix για τον πιο \"ορθό\" ταξινομητή (GNB) και για τον λιγότερο ορθό (LR)."
      ],
      "metadata": {
        "id": "-J1Tf4bRpckt"
      }
    },
    {
      "cell_type": "code",
      "source": [
        "fig, ax = plt.subplots(ncols = 2)\n",
        "ConfusionMatrixDisplay.from_predictions(y_test, gnb_preds, ax = ax[0], cmap = 'Purples', colorbar = False)\n",
        "ax[0].set_title(\"GNB Confussion Matrix\")\n",
        "ConfusionMatrixDisplay.from_predictions(y_test, lr_preds, ax = ax[1], cmap = 'Purples', colorbar = False)\n",
        "ax[1].set_title(\"LR Confussion Matrix\")\n",
        "plt.show()"
      ],
      "metadata": {
        "colab": {
          "base_uri": "https://localhost:8080/",
          "height": 230
        },
        "id": "fOJHR5H8f94x",
        "outputId": "3d7c5f69-54eb-4be9-ec53-8a48ba772ffa"
      },
      "execution_count": null,
      "outputs": [
        {
          "output_type": "display_data",
          "data": {
            "text/plain": [
              "<Figure size 432x288 with 2 Axes>"
            ],
            "image/png": "[encoded data removed]"
          },
          "metadata": {
            "needs_background": "light"
          }
        }
      ]
    },
    {
      "cell_type": "markdown",
      "source": [
        "Όπως φαινόταν και από τις τιμές των μετρικών, βλέπουμε πως οι δύο ταξινομητές δεν διαφέρουν πολύ. Ο LR έχει ένα False Negative σε αντίθεση με τον GNB που δεν έχει κανενα. Επίσης έχει ένα περισσότερο False Positive. (Θεωρώντας πάντα το `g` ως positive)"
      ],
      "metadata": {
        "id": "pyPdOGsyp4nY"
      }
    }
  ],
  "metadata": {
    "colab": {
      "provenance": [],
      "collapsed_sections": [
        "H2-1CS-2XDlY",
        "0VPoGRtUam0h",
        "OCOAgTy-KueK",
        "677fmakGPLdU",
        "RKauTN_XcUnC",
        "ynnAVbwrBIA7",
        "5oCGwUVaDrSL",
        "7weZOqQsLv2v",
        "p70Q-53PMjpW",
        "2F3WeRUuMq__",
        "nKoBvKXtMzmD",
        "y_aODt3QlW5c",
        "OUjdOK__Lh_3",
        "eJzPFRSOfjpr",
        "X7CD9leG_ira",
        "ftDzHVaziD-n",
        "efPM-lu_iioC",
        "3dtmyIUIyt9v"
      ]
    },
    "kernelspec": {
      "display_name": "Python 3",
      "name": "python3"
    },
    "language_info": {
      "name": "python"
    }
  },
  "nbformat": 4,
  "nbformat_minor": 0
}
