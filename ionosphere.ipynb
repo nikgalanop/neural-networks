{
  "nbformat": 4,
  "nbformat_minor": 0,
  "metadata": {
    "colab": {
      "provenance": [],
      "include_colab_link": true
    },
    "kernelspec": {
      "name": "python3",
      "display_name": "Python 3"
    },
    "language_info": {
      "name": "python"
    }
  },
  "cells": [
    {
      "cell_type": "markdown",
      "metadata": {
        "id": "view-in-github",
        "colab_type": "text"
      },
      "source": [
        "<a href=\"https://colab.research.google.com/github/nikgalanop/neural-networks-lab1/blob/main/ionosphere.ipynb\" target=\"_parent\"><img src=\"https://colab.research.google.com/assets/colab-badge.svg\" alt=\"Open In Colab\"/></a>"
      ]
    },
    {
      "cell_type": "markdown",
      "source": [
        "Environment Setup"
      ],
      "metadata": {
        "id": "V1JBqPfnxUDn"
      }
    },
    {
      "cell_type": "code",
      "execution_count": null,
      "metadata": {
        "id": "P41tAFJoyOQC"
      },
      "outputs": [],
      "source": [
        "!pip install --upgrade pip\n",
        "!pip install --upgrade scikit-learn\n",
        "!pip install --upgrade numpy\n",
        "!pip install --upgrade matplotlib\n",
        "!pip install --upgrade pandas"
      ]
    },
    {
      "cell_type": "markdown",
      "source": [
        "Προκαταρτικά Βήματα"
      ],
      "metadata": {
        "id": "q5Po7bcIxgyx"
      }
    },
    {
      "cell_type": "code",
      "source": [
        "import pandas as pd\n",
        "import numpy as np"
      ],
      "metadata": {
        "id": "WxXaGqULxaXd"
      },
      "execution_count": null,
      "outputs": []
    },
    {
      "cell_type": "code",
      "source": [
        "# http://archive.ics.uci.edu/ml/machine-learning-databases/ionosphere/\n",
        "df = pd.read_csv(\"ionosphere.data\", header=None)"
      ],
      "metadata": {
        "id": "3lV518QOxbK2"
      },
      "execution_count": null,
      "outputs": []
    },
    {
      "cell_type": "code",
      "source": [
        "print(f\"Dataset shape: {df.shape}\")\n",
        "# print(f\"Dataframe dtypes:\\n{df.dtypes}\")\n",
        "print(f\"Unknown values? {df.isnull().values.any()}\")\n",
        "print(f\"Classes: {df[34].nunique()}\")\n",
        "freqs = (100 * df[34].value_counts() / df[34].size).map(\"{:,.2f}%\".format)\n",
        "print(f\"Class Frequencies:\\n{freqs}\")"
      ],
      "metadata": {
        "id": "cFw4exCPxecH"
      },
      "execution_count": null,
      "outputs": []
    }
  ]
}